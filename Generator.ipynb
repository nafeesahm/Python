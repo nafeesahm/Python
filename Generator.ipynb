{
 "cells": [
  {
   "cell_type": "markdown",
   "id": "e5813412",
   "metadata": {},
   "source": [
    "# Generator is a function which is responsible to generate a sequence of values.\n",
    "# We can write generator functions just like ordinary functions, but it uses yield keyword to return values"
   ]
  },
  {
   "cell_type": "code",
   "execution_count": 20,
   "id": "dc29d524",
   "metadata": {},
   "outputs": [
    {
     "name": "stdout",
     "output_type": "stream",
     "text": [
      "<class 'generator'>\n",
      "<generator object <genexpr> at 0x0000023F079F5B30>\n",
      "0\n",
      "1\n",
      "4\n",
      "9\n",
      "16\n",
      "25\n",
      "36\n",
      "49\n",
      "64\n",
      "81\n"
     ]
    },
    {
     "ename": "StopIteration",
     "evalue": "",
     "output_type": "error",
     "traceback": [
      "\u001b[1;31m---------------------------------------------------------------------------\u001b[0m",
      "\u001b[1;31mStopIteration\u001b[0m                             Traceback (most recent call last)",
      "\u001b[1;32mC:\\Users\\NAFEES~1\\AppData\\Local\\Temp/ipykernel_18824/1833633771.py\u001b[0m in \u001b[0;36m<module>\u001b[1;34m\u001b[0m\n\u001b[0;32m      3\u001b[0m \u001b[0mprint\u001b[0m\u001b[1;33m(\u001b[0m\u001b[0mg\u001b[0m\u001b[1;33m)\u001b[0m\u001b[1;33m\u001b[0m\u001b[1;33m\u001b[0m\u001b[0m\n\u001b[0;32m      4\u001b[0m \u001b[1;32mwhile\u001b[0m \u001b[1;32mTrue\u001b[0m\u001b[1;33m:\u001b[0m\u001b[1;33m\u001b[0m\u001b[1;33m\u001b[0m\u001b[0m\n\u001b[1;32m----> 5\u001b[1;33m     \u001b[0mprint\u001b[0m\u001b[1;33m(\u001b[0m\u001b[0mnext\u001b[0m\u001b[1;33m(\u001b[0m\u001b[0mg\u001b[0m\u001b[1;33m)\u001b[0m\u001b[1;33m)\u001b[0m\u001b[1;33m\u001b[0m\u001b[1;33m\u001b[0m\u001b[0m\n\u001b[0m",
      "\u001b[1;31mStopIteration\u001b[0m: "
     ]
    }
   ],
   "source": [
    "g = (x*x for x in range(10))\n",
    "print(type(g))\n",
    "print(g)\n",
    "while True:\n",
    "    print(next(g))"
   ]
  },
  {
   "cell_type": "code",
   "execution_count": 21,
   "id": "894e1eda",
   "metadata": {},
   "outputs": [
    {
     "name": "stdout",
     "output_type": "stream",
     "text": [
      "<class 'generator'>\n"
     ]
    }
   ],
   "source": [
    "def mygen():\n",
    "    yield 'A'\n",
    "    yield 'B'\n",
    "    yield 'C'\n",
    "\n",
    "g = mygen()\n",
    "print(type(g))"
   ]
  },
  {
   "cell_type": "code",
   "execution_count": 22,
   "id": "376ca070",
   "metadata": {},
   "outputs": [
    {
     "name": "stdout",
     "output_type": "stream",
     "text": [
      "A\n"
     ]
    }
   ],
   "source": [
    "print(next(g))"
   ]
  },
  {
   "cell_type": "code",
   "execution_count": 23,
   "id": "a7023f73",
   "metadata": {},
   "outputs": [
    {
     "name": "stdout",
     "output_type": "stream",
     "text": [
      "B\n"
     ]
    }
   ],
   "source": [
    "print(next(g))"
   ]
  },
  {
   "cell_type": "code",
   "execution_count": 24,
   "id": "b3952001",
   "metadata": {},
   "outputs": [
    {
     "name": "stdout",
     "output_type": "stream",
     "text": [
      "C\n"
     ]
    }
   ],
   "source": [
    "print(next(g))"
   ]
  },
  {
   "cell_type": "code",
   "execution_count": 25,
   "id": "86e87a7b",
   "metadata": {},
   "outputs": [
    {
     "ename": "StopIteration",
     "evalue": "",
     "output_type": "error",
     "traceback": [
      "\u001b[1;31m---------------------------------------------------------------------------\u001b[0m",
      "\u001b[1;31mStopIteration\u001b[0m                             Traceback (most recent call last)",
      "\u001b[1;32mC:\\Users\\NAFEES~1\\AppData\\Local\\Temp/ipykernel_18824/2604396719.py\u001b[0m in \u001b[0;36m<module>\u001b[1;34m\u001b[0m\n\u001b[1;32m----> 1\u001b[1;33m \u001b[0mprint\u001b[0m\u001b[1;33m(\u001b[0m\u001b[0mnext\u001b[0m\u001b[1;33m(\u001b[0m\u001b[0mg\u001b[0m\u001b[1;33m)\u001b[0m\u001b[1;33m)\u001b[0m\u001b[1;33m\u001b[0m\u001b[1;33m\u001b[0m\u001b[0m\n\u001b[0m",
      "\u001b[1;31mStopIteration\u001b[0m: "
     ]
    }
   ],
   "source": [
    "print(next(g))"
   ]
  },
  {
   "cell_type": "code",
   "execution_count": 26,
   "id": "2e5dc1d3",
   "metadata": {},
   "outputs": [
    {
     "name": "stdout",
     "output_type": "stream",
     "text": [
      "A\n",
      "B\n",
      "C\n"
     ]
    }
   ],
   "source": [
    "# if we don't want stop Itteration then use for loop :\n",
    "def mygen():\n",
    "    yield 'A'\n",
    "    yield 'B'                 # yield is a generator function to generate values\n",
    "    yield 'C'\n",
    "g = mygen()\n",
    "for x in g:\n",
    "    print(x)"
   ]
  },
  {
   "cell_type": "markdown",
   "id": "ca160b62",
   "metadata": {},
   "source": [
    "# generate first n number"
   ]
  },
  {
   "cell_type": "code",
   "execution_count": 27,
   "id": "e07f2675",
   "metadata": {},
   "outputs": [
    {
     "name": "stdout",
     "output_type": "stream",
     "text": [
      "1\n",
      "2\n",
      "3\n",
      "4\n",
      "5\n",
      "6\n",
      "7\n",
      "8\n",
      "9\n",
      "10\n"
     ]
    }
   ],
   "source": [
    "def first_n_values_generator(n):\n",
    "            i = 1\n",
    "            while i<=10:\n",
    "                yield i\n",
    "                i = i+1    \n",
    "\n",
    "\n",
    "g = first_n_values_generator(10)            # function calling \n",
    "for x in g:\n",
    "    print(x)\n"
   ]
  },
  {
   "cell_type": "markdown",
   "id": "785e9478",
   "metadata": {},
   "source": [
    "# write a generator function program to countDown  number"
   ]
  },
  {
   "cell_type": "code",
   "execution_count": 31,
   "id": "ef02241c",
   "metadata": {},
   "outputs": [
    {
     "name": "stdout",
     "output_type": "stream",
     "text": [
      "Enter count Number:- 10\n",
      "10\n",
      "9\n",
      "8\n",
      "7\n",
      "6\n",
      "5\n",
      "4\n",
      "3\n",
      "2\n",
      "1\n",
      "0\n"
     ]
    }
   ],
   "source": [
    "import time\n",
    "def countdown(num):\n",
    "            i = num\n",
    "            while i>=0:\n",
    "                yield i\n",
    "                i = i-1    \n",
    "\n",
    "n = int(input(\"Enter count Number:- \"))\n",
    "g = countdown(n)            # function calling \n",
    "for x in g:\n",
    "    print(x)\n",
    "    time.sleep(1)\n"
   ]
  },
  {
   "cell_type": "code",
   "execution_count": 32,
   "id": "7760a1bf",
   "metadata": {},
   "outputs": [
    {
     "name": "stdout",
     "output_type": "stream",
     "text": [
      "5\n",
      "4\n",
      "3\n",
      "2\n",
      "1\n",
      "0\n"
     ]
    }
   ],
   "source": [
    "import time\n",
    "def countdown(num):\n",
    "            while num>=0:\n",
    "                yield num\n",
    "                num = num-1    \n",
    "\n",
    "g = countdown(5)            # function calling \n",
    "for x in g:\n",
    "    print(x)\n",
    "    time.sleep(1)\n"
   ]
  },
  {
   "cell_type": "markdown",
   "id": "850a78bd",
   "metadata": {},
   "source": [
    "# write a generator function to generate fibonacci Number"
   ]
  },
  {
   "cell_type": "code",
   "execution_count": 33,
   "id": "fb874e37",
   "metadata": {},
   "outputs": [
    {
     "name": "stdout",
     "output_type": "stream",
     "text": [
      "0\n",
      "1\n",
      "1\n",
      "2\n",
      "3\n",
      "5\n",
      "8\n"
     ]
    }
   ],
   "source": [
    "# the next number is the sum of previous two number    is   fibonacci number\n",
    "\n",
    "def fibonacci():\n",
    "    a,b = 0,1\n",
    "    while True:\n",
    "        yield a\n",
    "        a,b = b,a+b\n",
    "g = fibonacci()\n",
    "for x in g:\n",
    "    if x <= 10:\n",
    "        print(x)\n",
    "    else:\n",
    "        break"
   ]
  },
  {
   "cell_type": "markdown",
   "id": "aa818dfa",
   "metadata": {},
   "source": [
    "# print nth fibonacci number"
   ]
  },
  {
   "cell_type": "code",
   "execution_count": 34,
   "id": "02d632e0",
   "metadata": {},
   "outputs": [
    {
     "name": "stdout",
     "output_type": "stream",
     "text": [
      "Enter number fibonacci required: 10\n",
      "0\n",
      "1\n",
      "1\n",
      "2\n",
      "3\n",
      "5\n",
      "8\n",
      "13\n",
      "21\n",
      "34\n"
     ]
    }
   ],
   "source": [
    "\n",
    "def fibonacci():\n",
    "    a,b = 0,1\n",
    "    while True:\n",
    "        yield a\n",
    "        a,b = b,a+b\n",
    "g = fibonacci()\n",
    "\n",
    "n = int(input(\"Enter number fibonacci required: \"))\n",
    "count = 1\n",
    "while count <= n:\n",
    "    print(next(g))\n",
    "    count = count + 1"
   ]
  },
  {
   "cell_type": "markdown",
   "id": "0b29daa0",
   "metadata": {},
   "source": [
    "# how to convert generator into list"
   ]
  },
  {
   "cell_type": "code",
   "execution_count": 35,
   "id": "16702b27",
   "metadata": {},
   "outputs": [
    {
     "name": "stdout",
     "output_type": "stream",
     "text": [
      "[1, 2, 3, 4, 5, 6, 7, 8, 9, 10]\n"
     ]
    }
   ],
   "source": [
    "\n",
    "\n",
    "def first_n_values_generator(n):\n",
    "            i = 1\n",
    "            while i<=10:\n",
    "                yield i\n",
    "                i = i+1    \n",
    "\n",
    "\n",
    "g = first_n_values_generator(10)            # function calling \n",
    "\n",
    "l = list(g)\n",
    "print(l)\n"
   ]
  },
  {
   "cell_type": "code",
   "execution_count": null,
   "id": "b7c0131b",
   "metadata": {},
   "outputs": [],
   "source": []
  },
  {
   "cell_type": "code",
   "execution_count": 45,
   "id": "7912e4f2",
   "metadata": {},
   "outputs": [
    {
     "ename": "AttributeError",
     "evalue": "module 'time' has no attribute 'clock'",
     "output_type": "error",
     "traceback": [
      "\u001b[1;31m---------------------------------------------------------------------------\u001b[0m",
      "\u001b[1;31mAttributeError\u001b[0m                            Traceback (most recent call last)",
      "\u001b[1;32mC:\\Users\\NAFEES~1\\AppData\\Local\\Temp/ipykernel_18824/604201477.py\u001b[0m in \u001b[0;36m<module>\u001b[1;34m\u001b[0m\n\u001b[0;32m     30\u001b[0m \u001b[1;31m# t2 = time.clock()\u001b[0m\u001b[1;33m\u001b[0m\u001b[1;33m\u001b[0m\u001b[0m\n\u001b[0;32m     31\u001b[0m \u001b[1;33m\u001b[0m\u001b[0m\n\u001b[1;32m---> 32\u001b[1;33m \u001b[0mt1\u001b[0m \u001b[1;33m=\u001b[0m \u001b[0mtime\u001b[0m\u001b[1;33m.\u001b[0m\u001b[0mclock\u001b[0m\u001b[1;33m(\u001b[0m\u001b[1;33m)\u001b[0m\u001b[1;33m\u001b[0m\u001b[1;33m\u001b[0m\u001b[0m\n\u001b[0m\u001b[0;32m     33\u001b[0m \u001b[0mpeople\u001b[0m \u001b[1;33m=\u001b[0m \u001b[0mpeople_generator\u001b[0m\u001b[1;33m(\u001b[0m\u001b[1;36m10000\u001b[0m\u001b[1;33m)\u001b[0m\u001b[1;33m\u001b[0m\u001b[1;33m\u001b[0m\u001b[0m\n\u001b[0;32m     34\u001b[0m \u001b[0mt2\u001b[0m \u001b[1;33m=\u001b[0m \u001b[0mtime\u001b[0m\u001b[1;33m.\u001b[0m\u001b[0mclock\u001b[0m\u001b[1;33m(\u001b[0m\u001b[1;33m)\u001b[0m\u001b[1;33m\u001b[0m\u001b[1;33m\u001b[0m\u001b[0m\n",
      "\u001b[1;31mAttributeError\u001b[0m: module 'time' has no attribute 'clock'"
     ]
    }
   ],
   "source": [
    "import random \n",
    "import time \n",
    "\n",
    "names = ['Sunny','Bunny','Chinny','Vinny'] \n",
    "subjects = ['Python','Java','Blockchain'] \n",
    "\n",
    "def people_list(num_people): \n",
    "    results = [] \n",
    "    for i in range(num_people): \n",
    "        person = { \n",
    "                'id':i, \n",
    "                'name': random.choice(names), \n",
    "                'subject':random.choice(subjects) \n",
    "                } \n",
    "        results.append(person) \n",
    "    return results \n",
    "\n",
    "\n",
    "def people_generator(num_people): \n",
    "    for i in range(num_people): \n",
    "        person = { \n",
    "                'id':i, \n",
    "                'name': random.choice(names), \n",
    "                'major':random.choice(subjects) \n",
    "                 } \n",
    "        yield person \n",
    "\n",
    "# t1 = time.clock()\n",
    "# people = people_list(10000)\n",
    "# t2 = time.clock()\n",
    " \n",
    "t1 = time.clock()\n",
    "people = people_generator(10000) \n",
    "t2 = time.clock() \n",
    " \n",
    "print('Took {}'.format(t2-t1))"
   ]
  },
  {
   "cell_type": "markdown",
   "id": "de9337bd",
   "metadata": {},
   "source": [
    "# Advantages of Generator Functions:\n",
    "# 1) When compared with Class Level Iterators, Generators are very easy to use.\n",
    "# 2) Improves Memory Utilization and Performance.\n",
    "# 3) Generators are best suitable for reading Data from Large Number of Large Files.\n",
    "# 4) Generators work great for web scraping and crawling"
   ]
  },
  {
   "cell_type": "code",
   "execution_count": null,
   "id": "c7938519",
   "metadata": {},
   "outputs": [],
   "source": []
  }
 ],
 "metadata": {
  "kernelspec": {
   "display_name": "Python 3 (ipykernel)",
   "language": "python",
   "name": "python3"
  },
  "language_info": {
   "codemirror_mode": {
    "name": "ipython",
    "version": 3
   },
   "file_extension": ".py",
   "mimetype": "text/x-python",
   "name": "python",
   "nbconvert_exporter": "python",
   "pygments_lexer": "ipython3",
   "version": "3.9.7"
  }
 },
 "nbformat": 4,
 "nbformat_minor": 5
}
