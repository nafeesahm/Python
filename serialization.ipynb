{
 "cells": [
  {
   "cell_type": "markdown",
   "id": "82fc3532",
   "metadata": {},
   "source": [
    "# pickle"
   ]
  },
  {
   "cell_type": "code",
   "execution_count": 11,
   "id": "2c66f5e3",
   "metadata": {},
   "outputs": [
    {
     "name": "stdout",
     "output_type": "stream",
     "text": [
      "ENO: 7546039528,\n",
      "ENAME: 7546039528,\n",
      "ESAL: nafees,\n",
      "EADDR: 35000\n",
      "pickling of employee object completed...\n",
      "\n",
      "Unpickling of employee object completed...\n",
      "printing Employee information...\n",
      "ENO: 7546039528,\n",
      "ENAME: 7546039528,\n",
      "ESAL: nafees,\n",
      "EADDR: 35000\n"
     ]
    }
   ],
   "source": [
    "# serialization  to python file in  binary form\n",
    "\n",
    "import pickle\n",
    "class Employee:\n",
    "    def __init__(self , eno , ename , esal , eaddr):\n",
    "        self.eno = eno\n",
    "        self.ename = ename\n",
    "        self.esal = esal\n",
    "        self.eaddr = eaddr\n",
    "\n",
    "    def Display(self):\n",
    "        print(\"ENO: {},\\nENAME: {},\\nESAL: {},\\nEADDR: {}\".format(self.eno , self.eno , self.ename , self.esal , self.eaddr))\n",
    "\n",
    "e = Employee(7546039528 , 'nafees' , 35000 , 'khangura')\n",
    "e.Display()\n",
    "\n",
    "with open('emp.dat' , 'wb') as f:\n",
    "    pickle.dump(e, f)\n",
    "    print(\"pickling of employee object completed...\")\n",
    "\n",
    "print()\n",
    "\n",
    "with open('emp.dat' , 'rb') as f:\n",
    "    obj = pickle.load(f)\n",
    "    print(\"Unpickling of employee object completed...\")\n",
    "    print(\"printing Employee information...\")\n",
    "\n",
    "    obj.Display()\n",
    "\n",
    "\n",
    "\n"
   ]
  },
  {
   "cell_type": "code",
   "execution_count": null,
   "id": "a14c1e19",
   "metadata": {},
   "outputs": [],
   "source": []
  },
  {
   "cell_type": "markdown",
   "id": "1642bd92",
   "metadata": {},
   "source": [
    "# json"
   ]
  },
  {
   "cell_type": "code",
   "execution_count": null,
   "id": "d9cc3faf",
   "metadata": {},
   "outputs": [],
   "source": [
    "# demo program for serialization  to json string , and python file\n",
    "\n",
    "import json\n",
    "employee = {'name' : \"nafees\",\n",
    "            'age' : 23,\n",
    "            'salary' : 10000,\n",
    "            'ismarried' : True,\n",
    "            'isHavingGirlfriend'  : None\n",
    "            }\n",
    "json_string = json.dumps(employee , indent = 4 , sort_keys = True)\n",
    "\n",
    "print(\"::::After converting json string:::\")\n",
    "print(json_string)\n",
    "\n",
    "\n",
    "# serielization to python file\n",
    "with open(\"emp.json\", 'w') as f:\n",
    "    json.dump(employee , f , indent = 4)"
   ]
  },
  {
   "cell_type": "code",
   "execution_count": null,
   "id": "066579d4",
   "metadata": {},
   "outputs": [],
   "source": []
  },
  {
   "cell_type": "code",
   "execution_count": 17,
   "id": "91706d6c",
   "metadata": {},
   "outputs": [],
   "source": [
    "# demo program for deserialization  from json string"
   ]
  },
  {
   "cell_type": "code",
   "execution_count": 26,
   "id": "c36a1403",
   "metadata": {},
   "outputs": [
    {
     "name": "stdout",
     "output_type": "stream",
     "text": [
      "{'age': 23, 'isHavingGirlfriend': None, 'ismarried': True, 'name': 'nafees', 'salary': 10000}\n",
      "<class 'dict'>\n",
      "Employee Name        :  nafees\n",
      "Employee Age         :  23\n",
      "Employee salary      :  10000\n",
      "Is Employee Married  :  True\n",
      "Is Employee has GF   :  None\n"
     ]
    }
   ],
   "source": [
    "import json\n",
    "json_string = \"\"\"{\n",
    "                \"age\": 23,\n",
    "                \"isHavingGirlfriend\": null,\n",
    "                \"ismarried\": true,\n",
    "                \"name\": \"nafees\",\n",
    "                \"salary\": 10000\n",
    "               }\"\"\"\n",
    "emp_dict = json.loads(json_string)\n",
    "print(emp_dict)\n",
    "print(type(emp_dict))\n",
    "\n",
    "print(\"Employee Name        : \", emp_dict['name'])\n",
    "print(\"Employee Age         : \", emp_dict['age'])\n",
    "print(\"Employee salary      : \", emp_dict['salary'])\n",
    "print(\"Is Employee Married  : \", emp_dict['ismarried'])\n",
    "print(\"Is Employee has GF   : \" , emp_dict['isHavingGirlfriend'])"
   ]
  },
  {
   "cell_type": "code",
   "execution_count": null,
   "id": "b176c1bf",
   "metadata": {},
   "outputs": [],
   "source": []
  },
  {
   "cell_type": "code",
   "execution_count": 28,
   "id": "1ee65c43",
   "metadata": {},
   "outputs": [],
   "source": [
    "#demo program for deserialization from json file"
   ]
  },
  {
   "cell_type": "code",
   "execution_count": 43,
   "id": "dc768534",
   "metadata": {},
   "outputs": [
    {
     "name": "stdout",
     "output_type": "stream",
     "text": [
      "{'name': 'nafees', 'age': 23, 'salary': 10000, 'ismarried': True, 'isHavingGirlfriend': None}\n",
      "<class 'dict'>\n",
      "Employee Name           :  nafees\n",
      "Employee Age            :  23\n",
      "Employee salary         :  10000\n",
      "Is Employee Married     :  True\n",
      "Is Employee has GF      :  None\n"
     ]
    }
   ],
   "source": [
    "import json\n",
    "with open('emp.json', 'r') as f:\n",
    "    emp_dict= json.load(f)\n",
    "    print(emp_dict)\n",
    "    print(type(emp_dict))\n",
    "    \n",
    "    print(\"Employee Name           : \", emp_dict['name'])\n",
    "    print(\"Employee Age            : \", emp_dict['age'])\n",
    "    print(\"Employee salary         : \" , emp_dict['salary'])\n",
    "    print(\"Is Employee Married     : \", emp_dict['ismarried'])\n",
    "    print(\"Is Employee has GF      : \" , emp_dict['isHavingGirlfriend'])\n",
    "    \n"
   ]
  },
  {
   "cell_type": "code",
   "execution_count": 49,
   "id": "0f0e079c",
   "metadata": {},
   "outputs": [
    {
     "name": "stdout",
     "output_type": "stream",
     "text": [
      "name \t\t: nafees\n",
      "age \t\t: 23\n",
      "salary \t\t: 10000\n",
      "ismarried \t\t: True\n",
      "isHavingGirlfriend \t\t: None\n"
     ]
    }
   ],
   "source": [
    " for k,v in emp_dict.items():\n",
    "        print(k ,\"\\t\\t:\", v)"
   ]
  },
  {
   "cell_type": "code",
   "execution_count": null,
   "id": "f96df7d9",
   "metadata": {},
   "outputs": [],
   "source": []
  },
  {
   "cell_type": "code",
   "execution_count": 51,
   "id": "4379af78",
   "metadata": {
    "collapsed": true
   },
   "outputs": [
    {
     "name": "stdout",
     "output_type": "stream",
     "text": [
      "Collecting requests\n",
      "  Using cached requests-2.27.1-py2.py3-none-any.whl (63 kB)\n",
      "Collecting charset-normalizer~=2.0.0\n",
      "  Using cached charset_normalizer-2.0.10-py3-none-any.whl (39 kB)\n",
      "Requirement already satisfied: urllib3<1.27,>=1.21.1 in c:\\users\\nafees ahmad\\appdata\\local\\programs\\python\\python39\\lib\\site-packages (from requests) (1.26.8)\n",
      "Requirement already satisfied: idna<4,>=2.5 in c:\\users\\nafees ahmad\\appdata\\local\\programs\\python\\python39\\lib\\site-packages (from requests) (3.3)\n",
      "Requirement already satisfied: certifi>=2017.4.17 in c:\\users\\nafees ahmad\\appdata\\local\\programs\\python\\python39\\lib\\site-packages (from requests) (2021.10.8)\n",
      "Installing collected packages: charset-normalizer, requests\n",
      "Successfully installed charset-normalizer-2.0.10 requests-2.27.1\n",
      "Note: you may need to restart the kernel to use updated packages.\n"
     ]
    },
    {
     "name": "stderr",
     "output_type": "stream",
     "text": [
      "WARNING: You are using pip version 21.2.3; however, version 21.3.1 is available.\n",
      "You should consider upgrading via the 'C:\\Users\\NAFEES AHMAD\\AppData\\Local\\Programs\\Python\\Python39\\python.exe -m pip install --upgrade pip' command.\n"
     ]
    }
   ],
   "source": [
    "pip install requests"
   ]
  },
  {
   "cell_type": "code",
   "execution_count": 71,
   "id": "e5132d47",
   "metadata": {},
   "outputs": [
    {
     "name": "stdout",
     "output_type": "stream",
     "text": [
      "BitCoin price as on  Jan 15, 2022 10:36:00 UTC\n",
      "1 BitCoin = $  43,190.4217\n"
     ]
    }
   ],
   "source": [
    "import requests\n",
    "response = requests.get('http://api.coindesk.com/v1/bpi/currentprice.json')\n",
    "binfo = response.json()             # provide python dict object\n",
    "# print(type(binfo))\n",
    "# print(binfo)\n",
    "\n",
    "print(\"BitCoin price as on \", binfo['time']['updated'])\n",
    "print('1 BitCoin = $ ', binfo['bpi']['USD']['rate'])"
   ]
  },
  {
   "cell_type": "code",
   "execution_count": null,
   "id": "26765455",
   "metadata": {},
   "outputs": [],
   "source": []
  },
  {
   "cell_type": "markdown",
   "id": "c9ffc04f",
   "metadata": {},
   "source": [
    "# how to perform serialization and deserialization of customized object"
   ]
  },
  {
   "cell_type": "code",
   "execution_count": 93,
   "id": "980dddaf",
   "metadata": {},
   "outputs": [
    {
     "name": "stdout",
     "output_type": "stream",
     "text": [
      "Eno:100, Ename:nafees, Esal:45000, Eaddr:khangura\n",
      "{'eno': 100, 'ename': 'nafees', 'esal': 45000, 'eaddr': 'khangura'}\n"
     ]
    }
   ],
   "source": [
    "import json\n",
    "class Employee:\n",
    "    def __init__(self , eno , ename , esal , eaddr):\n",
    "        self.eno = eno\n",
    "        self.ename = ename\n",
    "        self.esal = esal\n",
    "        self.eaddr = eaddr\n",
    "        \n",
    "    def display(self):\n",
    "        print('Eno:{}, Ename:{}, Esal:{}, Eaddr:{}'.format(self.eno,self.ename,self.esal,self.eaddr))\n",
    "        \n",
    "e = Employee(100,'nafees', 45000, 'khangura')\n",
    "e.display()\n",
    "\n",
    "# emp_dict = {\"eno\"   : e.eno , \n",
    "#             \"ename\" : e.ename,\n",
    "#             \"esal\"  : e.esal,\n",
    "#             \"addres\": e.eaddr\n",
    "#            }\n",
    "# print(emp_dict)\n",
    "\n",
    "emp_dict = e.__dict__        # convert into dict    to dump in json file         \n",
    "print(emp_dict)"
   ]
  },
  {
   "cell_type": "code",
   "execution_count": 95,
   "id": "6e124a1b",
   "metadata": {},
   "outputs": [],
   "source": [
    "with open('employee.json' , 'w') as f:\n",
    "    json.dump(emp_dict, f , indent= 4)\n",
    "    "
   ]
  },
  {
   "cell_type": "code",
   "execution_count": 101,
   "id": "5878d9aa",
   "metadata": {},
   "outputs": [
    {
     "name": "stdout",
     "output_type": "stream",
     "text": [
      "{'eno': 100, 'ename': 'nafees', 'esal': 45000, 'eaddr': 'khangura'}\n"
     ]
    }
   ],
   "source": [
    "with open('employee.json' , 'r') as f:\n",
    "    edict = json.load(f)\n",
    "    print(edict)"
   ]
  },
  {
   "cell_type": "code",
   "execution_count": 102,
   "id": "4f28f3a3",
   "metadata": {},
   "outputs": [
    {
     "name": "stdout",
     "output_type": "stream",
     "text": [
      "<class 'dict'>\n"
     ]
    }
   ],
   "source": [
    "print(type(edict))"
   ]
  },
  {
   "cell_type": "code",
   "execution_count": 106,
   "id": "98ff874a",
   "metadata": {},
   "outputs": [
    {
     "name": "stdout",
     "output_type": "stream",
     "text": [
      "Eno:100, Ename:nafees, Esal:45000, Eaddr:khangura\n"
     ]
    }
   ],
   "source": [
    "newE = Employee(edict['eno'], edict['ename'], edict['esal'], edict['eaddr'])\n",
    "newE.display()                  # calling display instance method"
   ]
  },
  {
   "cell_type": "code",
   "execution_count": null,
   "id": "123e5096",
   "metadata": {},
   "outputs": [],
   "source": []
  },
  {
   "cell_type": "markdown",
   "id": "b4135fdb",
   "metadata": {},
   "source": [
    "# jsonpickle module"
   ]
  },
  {
   "cell_type": "code",
   "execution_count": 109,
   "id": "84583103",
   "metadata": {},
   "outputs": [],
   "source": [
    "# 1 . encode    --- to convert any object to json_string directly\n",
    "\n",
    "# 2 . decode    --- to convert json_string to our original object\n"
   ]
  },
  {
   "cell_type": "code",
   "execution_count": 108,
   "id": "6d42ea68",
   "metadata": {},
   "outputs": [],
   "source": [
    "# by using jsonpickle module , we can selialize our custom class object directly to json and \n",
    "# we can deserialize json to our custom class object directly"
   ]
  },
  {
   "cell_type": "markdown",
   "id": "048958a6",
   "metadata": {},
   "source": [
    "# program for serialization and deserialization by using jsonpickle"
   ]
  },
  {
   "cell_type": "code",
   "execution_count": 113,
   "id": "66b5b958",
   "metadata": {},
   "outputs": [
    {
     "name": "stdout",
     "output_type": "stream",
     "text": [
      "Collecting jsonpickleNote: you may need to restart the kernel to use updated packages.\n"
     ]
    },
    {
     "name": "stderr",
     "output_type": "stream",
     "text": [
      "WARNING: You are using pip version 21.2.3; however, version 21.3.1 is available.\n",
      "You should consider upgrading via the 'C:\\Users\\NAFEES AHMAD\\AppData\\Local\\Programs\\Python\\Python39\\python.exe -m pip install --upgrade pip' command.\n"
     ]
    },
    {
     "name": "stdout",
     "output_type": "stream",
     "text": [
      "\n",
      "  Downloading jsonpickle-2.1.0-py2.py3-none-any.whl (38 kB)\n",
      "Installing collected packages: jsonpickle\n",
      "Successfully installed jsonpickle-2.1.0\n"
     ]
    }
   ],
   "source": [
    "pip install jsonpickle"
   ]
  },
  {
   "cell_type": "code",
   "execution_count": 159,
   "id": "4468fb02",
   "metadata": {},
   "outputs": [
    {
     "name": "stdout",
     "output_type": "stream",
     "text": [
      "serialization to json_string completed\n",
      "\n",
      "serialization to file completed\n",
      "\n",
      "<__main__.Employee object at 0x00000210C30E1940>\n",
      "Deserialization from json_string to python object completed\n",
      "\n",
      "Eno:7546039528,Ename:Nafees,Esal:54000,Eaddr:darbhanga,ismarried:True\n",
      "\n",
      "Deserialization  from file to python object\n"
     ]
    }
   ],
   "source": [
    "import jsonpickle\n",
    "class Employee:\n",
    "    def __init__(self , eno , ename , esal , eaddr , ismarried):\n",
    "        self.eno = eno\n",
    "        self.ename = ename\n",
    "        self.esal = esal\n",
    "        self.eaddr = eaddr\n",
    "        self.ismarried = ismarried\n",
    "    \n",
    "    def display(self):\n",
    "        print('Eno:{},Ename:{},Esal:{},Eaddr:{},ismarried:{}'.format(self.eno,self.ename,self.esal,self.eaddr,self.ismarried))\n",
    "# e = Employee(7546039528, \"Nafees\", 54000, \"darbhanga\",True)      \n",
    "# d = e.display()\n",
    "# print(type(e))\n",
    "\n",
    "\n",
    "# serialization to string\n",
    "e = Employee(7546039528, \"Nafees\", 54000, \"darbhanga\",True)\n",
    "json_string = jsonpickle.encode(e)          # converting object to json_string directly\n",
    "# print(json_string)\n",
    "# print(type(json_string))\n",
    "print(\"serialization to json_string completed\\n\")\n",
    "\n",
    "\n",
    "# serialization to file\n",
    "with open('emp.json', 'w') as f:\n",
    "    f.write(json_string)\n",
    "print(\"serialization to file completed\\n\")\n",
    "    \n",
    "    \n",
    "# Deserialization   to Employee object\n",
    "newEmp = jsonpickle.decode(json_string)\n",
    "print(newEmp)\n",
    "# print(type(newEmp))\n",
    "print(\"Deserialization from json_string to python object completed\\n\")\n",
    "\n",
    "\n",
    "# Deserialization  from file\n",
    "with open('emp.json','r') as f:\n",
    "        json_string = f.readline()\n",
    "#         print(json_string)\n",
    "newEmp = jsonpickle.decode(json_string)        # \n",
    "# print(newEmp)\n",
    "# print(type(newEmp))\n",
    "newEmp.display()\n",
    "print(\"\\nDeserialization  from file to python object\")"
   ]
  },
  {
   "cell_type": "code",
   "execution_count": null,
   "id": "aa004e0a",
   "metadata": {},
   "outputs": [],
   "source": []
  },
  {
   "cell_type": "code",
   "execution_count": null,
   "id": "458e2cc5",
   "metadata": {},
   "outputs": [],
   "source": []
  }
 ],
 "metadata": {
  "kernelspec": {
   "display_name": "Python 3 (ipykernel)",
   "language": "python",
   "name": "python3"
  },
  "language_info": {
   "codemirror_mode": {
    "name": "ipython",
    "version": 3
   },
   "file_extension": ".py",
   "mimetype": "text/x-python",
   "name": "python",
   "nbconvert_exporter": "python",
   "pygments_lexer": "ipython3",
   "version": "3.9.7"
  }
 },
 "nbformat": 4,
 "nbformat_minor": 5
}
