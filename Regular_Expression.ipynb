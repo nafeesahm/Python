{
 "cells": [
  {
   "cell_type": "code",
   "execution_count": 1,
   "id": "2e102677",
   "metadata": {},
   "outputs": [],
   "source": [
    "# we can develop  regular Expression Based application by using python Module : re \n",
    "# this module contain several inbuilt function to use regular expression very easy in our application "
   ]
  },
  {
   "cell_type": "markdown",
   "id": "9345a4d7",
   "metadata": {},
   "source": [
    "# compile()"
   ]
  },
  {
   "cell_type": "code",
   "execution_count": 2,
   "id": "0ea18976",
   "metadata": {},
   "outputs": [
    {
     "name": "stdout",
     "output_type": "stream",
     "text": [
      "re.compile('ab')\n",
      "<class 're.Pattern'>\n"
     ]
    }
   ],
   "source": [
    "#returns Module contains compile() function to compile a pattern into regexObject \n",
    "import re\n",
    "pattern = re.compile(\"ab\")\n",
    "print(pattern)\n",
    "print(type(pattern))"
   ]
  },
  {
   "cell_type": "markdown",
   "id": "78174840",
   "metadata": {},
   "source": [
    "# finditer()"
   ]
  },
  {
   "cell_type": "code",
   "execution_count": 3,
   "id": "0ee7b478",
   "metadata": {},
   "outputs": [],
   "source": [
    "#returns an iterator object which yields Match object for every Match\n",
    "matcher =  pattern.finditer(\"abaababa\")"
   ]
  },
  {
   "cell_type": "code",
   "execution_count": 4,
   "id": "73a84253",
   "metadata": {},
   "outputs": [
    {
     "name": "stdout",
     "output_type": "stream",
     "text": [
      "<callable_iterator object at 0x0000022701BF6AC0>\n"
     ]
    }
   ],
   "source": [
    "print(matcher)"
   ]
  },
  {
   "cell_type": "code",
   "execution_count": 5,
   "id": "8be48b6b",
   "metadata": {},
   "outputs": [],
   "source": [
    "# On Match object we can call the following methods:\n",
    "\n",
    "# 1.  start()   --> returns start index of the match\n",
    "# 2.  end()     --> returns end + 1 index of the match\n",
    "# 3.  group()   --> returns the matched string\n"
   ]
  },
  {
   "cell_type": "markdown",
   "id": "315d54e1",
   "metadata": {},
   "source": [
    "# pattern matching application"
   ]
  },
  {
   "cell_type": "code",
   "execution_count": 6,
   "id": "3ded3e6c",
   "metadata": {},
   "outputs": [
    {
     "name": "stdout",
     "output_type": "stream",
     "text": [
      "0 ... 2 ... ab\n",
      "3 ... 5 ... ab\n",
      "5 ... 7 ... ab\n",
      "The count of occurance :  3\n"
     ]
    }
   ],
   "source": [
    "\n",
    "import re\n",
    "count = 0\n",
    "pattern = re.compile(\"ab\")\n",
    "matcher = pattern.finditer(\"abaababa\")\n",
    "for match in matcher:\n",
    "    count = count+1\n",
    "    print(match.start() , \"...\", match.end() , \"...\", match.group())\n",
    "    \n",
    "print(\"The count of occurance : \", count)"
   ]
  },
  {
   "cell_type": "code",
   "execution_count": 7,
   "id": "7955c970",
   "metadata": {},
   "outputs": [
    {
     "name": "stdout",
     "output_type": "stream",
     "text": [
      "0 ... 2 ... ab\n",
      "3 ... 5 ... ab\n",
      "5 ... 7 ... ab\n",
      "The count of occurance :  3\n"
     ]
    }
   ],
   "source": [
    "# you can pass pattern directly as argument to finditer() function\n",
    "import re \n",
    "count = 0\n",
    "matcher = re.finditer(\"ab\" , \"abaababa\")\n",
    "for match in matcher:\n",
    "    count = count+1\n",
    "    print(match.start() , \"...\", match.end() , \"...\", match.group())\n",
    "    \n",
    "print(\"The count of occurance : \", count)"
   ]
  },
  {
   "cell_type": "code",
   "execution_count": 8,
   "id": "21e8689d",
   "metadata": {},
   "outputs": [
    {
     "name": "stdout",
     "output_type": "stream",
     "text": [
      "<class 'callable_iterator'>\n",
      "start:1 , end: 3 , group: ba\n",
      "start:4 , end: 6 , group: ba\n",
      "start:6 , end: 8 , group: ba\n",
      "The count of occurance :  3\n"
     ]
    }
   ],
   "source": [
    "# you can pass pattern directly as argument to finditer() function\n",
    "import re \n",
    "count = 0\n",
    "matcher = re.finditer(\"ba\" , \"abaababa\")\n",
    "print(type(matcher))\n",
    "for m in matcher:\n",
    "    count = count+1\n",
    "    print(\"start:{} , end: {} , group: {}\".format(m.start(), m.end(),m.group()))\n",
    "        \n",
    "print(\"The count of occurance : \", count)"
   ]
  },
  {
   "cell_type": "markdown",
   "id": "672181e3",
   "metadata": {},
   "source": [
    "# character class \n",
    "# we can use character class to search a group of character\n",
    "[abc] ---> Either a or b or c\n",
    "\n",
    "[^abc] ---> Except a , b and c\n",
    "\n",
    "[a-z] --->  any lower case alphabet symbol\n",
    "\n",
    "[A-Z] ---> any upper case alphabet symbol\n",
    "\n",
    "[a-zA-Z] ---> any alphabet symbol\n",
    "\n",
    "[0-9] ---- >  any digit from 0 to 9\n",
    "\n",
    "[a-zA-Z0-9] --> any alphanumeric character\n",
    "\n",
    "[^a-zA-Z0-9] ---> Except Alphanumeric character (special character) $@&\n"
   ]
  },
  {
   "cell_type": "code",
   "execution_count": 9,
   "id": "d6d1db71",
   "metadata": {},
   "outputs": [
    {
     "name": "stdout",
     "output_type": "stream",
     "text": [
      "<callable_iterator object at 0x0000022701C2FDC0>\n",
      "index 0 == a\n",
      "index 2 == b\n"
     ]
    }
   ],
   "source": [
    "import re \n",
    "matcher = re.finditer(\"[abc]\",\"a7b@k9z\")\n",
    "print(matcher)\n",
    "for x in matcher:\n",
    "    print(\"index\", x.start(), \"==\" , x.group())"
   ]
  },
  {
   "cell_type": "code",
   "execution_count": 10,
   "id": "9fd53cfc",
   "metadata": {},
   "outputs": [
    {
     "name": "stdout",
     "output_type": "stream",
     "text": [
      "<callable_iterator object at 0x0000022701C2F850>\n",
      "index 1 == 7\n",
      "index 3 == @\n",
      "index 4 == k\n",
      "index 5 == 9\n",
      "index 6 == z\n"
     ]
    }
   ],
   "source": [
    "import re\n",
    "matcher = re.finditer(\"[^abc]\",\"a7b@k9z\")\n",
    "print(matcher)\n",
    "for x in matcher:\n",
    "    print(\"index\", x.start(), \"==\" , x.group())"
   ]
  },
  {
   "cell_type": "code",
   "execution_count": 11,
   "id": "297ba727",
   "metadata": {},
   "outputs": [
    {
     "name": "stdout",
     "output_type": "stream",
     "text": [
      "<callable_iterator object at 0x0000022701C2F9A0>\n",
      "index 0 == a\n",
      "index 2 == b\n",
      "index 4 == k\n",
      "index 6 == z\n"
     ]
    }
   ],
   "source": [
    "import re \n",
    "matcher = re.finditer(\"[a-z]\",\"a7b@k9z\")\n",
    "print(matcher)\n",
    "for x in matcher:\n",
    "    print(\"index\", x.start(), \"==\" , x.group())"
   ]
  },
  {
   "cell_type": "code",
   "execution_count": 12,
   "id": "b37bfa48",
   "metadata": {},
   "outputs": [
    {
     "name": "stdout",
     "output_type": "stream",
     "text": [
      "<callable_iterator object at 0x0000022701C2F460>\n",
      "index 3 == @\n"
     ]
    }
   ],
   "source": [
    "import re \n",
    "matcher = re.finditer(\"[^a-z0-9]\",\"a7b@k9z\")\n",
    "print(matcher)\n",
    "for x in matcher:\n",
    "    print(\"index\", x.start(), \"==\" , x.group())"
   ]
  },
  {
   "cell_type": "code",
   "execution_count": null,
   "id": "29e30ad8",
   "metadata": {},
   "outputs": [],
   "source": []
  },
  {
   "cell_type": "markdown",
   "id": "2690a554",
   "metadata": {},
   "source": [
    "# pre defined character classes\n",
    "\\s --> space character\n",
    "\n",
    "\\S --> any character except space character\n",
    "\n",
    "\\d --> any digit from 0 to 9  [0-9]\n",
    "\n",
    "\\D --> any character except digit\n",
    "\n",
    "\\w --> any word character [a-zA-Z0-9]\n",
    "\n",
    "\\W --> any character except word (special character @$&) -- [^a-zA-Z0-9]\n",
    "\n",
    ".  --> any charcter include special character"
   ]
  },
  {
   "cell_type": "code",
   "execution_count": 13,
   "id": "bf09066b",
   "metadata": {},
   "outputs": [
    {
     "name": "stdout",
     "output_type": "stream",
     "text": [
      "<callable_iterator object at 0x0000022701C2FCD0>\n",
      "index 0 .... a\n",
      "index 1 .... 7\n",
      "index 2 .... b\n",
      "index 4 .... k\n",
      "index 6 .... 9\n",
      "index 7 .... z\n"
     ]
    }
   ],
   "source": [
    "import re \n",
    "matcher = re.finditer(\"\\w\"  , \"a7b k@9z\")\n",
    "print(matcher)\n",
    "for match in matcher:\n",
    "    print(\"index\",match.start() , \"....\" , match.group())"
   ]
  },
  {
   "cell_type": "code",
   "execution_count": 14,
   "id": "a136f41d",
   "metadata": {},
   "outputs": [
    {
     "name": "stdout",
     "output_type": "stream",
     "text": [
      "<callable_iterator object at 0x0000022701C3ABB0>\n",
      "space character\n",
      "index 3 ....  \n"
     ]
    }
   ],
   "source": [
    "import re \n",
    "matcher = re.finditer(\"\\s\"  , \"a7b k@9z\")\n",
    "print(matcher)\n",
    "print(\"space character\")\n",
    "for match in matcher:\n",
    "    print(\"index\", match.start() , \"....\" , match.group())"
   ]
  },
  {
   "cell_type": "code",
   "execution_count": 15,
   "id": "dafbe18a",
   "metadata": {},
   "outputs": [
    {
     "name": "stdout",
     "output_type": "stream",
     "text": [
      "<callable_iterator object at 0x0000022701C3A5E0>\n",
      "0 .... a\n",
      "2 .... b\n",
      "3 ....  \n",
      "4 .... k\n",
      "5 .... @\n",
      "7 .... z\n"
     ]
    }
   ],
   "source": [
    "import re \n",
    "matcher = re.finditer(\"\\D\"  , \"a7b k@9z\")\n",
    "print(matcher)\n",
    "for match in matcher:\n",
    "    print(match.start() , \"....\" , match.group())"
   ]
  },
  {
   "cell_type": "code",
   "execution_count": 16,
   "id": "85d4ad5b",
   "metadata": {},
   "outputs": [
    {
     "name": "stdout",
     "output_type": "stream",
     "text": [
      "<callable_iterator object at 0x0000022701C3ABE0>\n",
      "0 .... a\n",
      "1 .... 7\n",
      "2 .... b\n",
      "3 ....  \n",
      "4 .... k\n",
      "5 .... @\n",
      "6 .... 9\n",
      "7 .... z\n"
     ]
    }
   ],
   "source": [
    "import re \n",
    "matcher = re.finditer(\".\"  , \"a7b k@9z\")\n",
    "print(matcher)\n",
    "for match in matcher:\n",
    "    print(match.start() , \"....\" , match.group())"
   ]
  },
  {
   "cell_type": "code",
   "execution_count": null,
   "id": "43d077b2",
   "metadata": {},
   "outputs": [],
   "source": []
  },
  {
   "cell_type": "markdown",
   "id": "9f3a6280",
   "metadata": {},
   "source": [
    "# Quantifiers"
   ]
  },
  {
   "cell_type": "code",
   "execution_count": 17,
   "id": "065e4291",
   "metadata": {},
   "outputs": [],
   "source": [
    "# we can use quantifiers to specify the number of occurances to match\n"
   ]
  },
  {
   "cell_type": "raw",
   "id": "d5326125",
   "metadata": {},
   "source": [
    "a ---- Exactly one 'a'\n",
    "\n",
    "a+ ---- Atleast one 'a'\n",
    "\n",
    "a* ---- Any number of a's including zero number\n",
    "\n",
    "a? ---- Atmost one 'a' ie either zero number or one number\n",
    "\n",
    "a{m} ---- Exactly m number of a's\n",
    "\n",
    "a{m,n} ----- Minimum m number of a's and Maximum n number of a's.\n",
    "\n",
    "^x ---- It will check whether target string starts with x OR not.\n",
    "\n",
    "x$ ----- It will check whether target string ends with x OR not\n"
   ]
  },
  {
   "cell_type": "code",
   "execution_count": 25,
   "id": "5f5bd4d7",
   "metadata": {},
   "outputs": [
    {
     "name": "stdout",
     "output_type": "stream",
     "text": [
      "0 ...... a\n",
      "2 ...... aa\n",
      "5 ...... aaa\n"
     ]
    }
   ],
   "source": [
    "import re \n",
    "matcher=re.finditer(\"a+\",\"abaabaaab\") \n",
    "for match in matcher: \n",
    "    print(match.start(),\"......\",match.group())"
   ]
  },
  {
   "cell_type": "markdown",
   "id": "359f3a2c",
   "metadata": {},
   "source": [
    "# Important Functions of Remodule:"
   ]
  },
  {
   "cell_type": "raw",
   "id": "2ea0abfa",
   "metadata": {},
   "source": [
    "1) match()\n",
    "2) fullmatch()\n",
    "3) search()\n",
    "4) findall()\n",
    "5) finditer()\n",
    "6) sub()\n",
    "7) subn()\n",
    "8) split()\n",
    "9) compile()"
   ]
  },
  {
   "cell_type": "code",
   "execution_count": 4,
   "id": "265ec628",
   "metadata": {},
   "outputs": [
    {
     "name": "stdout",
     "output_type": "stream",
     "text": [
      "Enter pattern to check: abc\n",
      "Match is available at the beginning of the String\n",
      "Start Index: 0 and End Index: 3\n"
     ]
    }
   ],
   "source": [
    "# 1) match():\n",
    "# We can use match function to check the given pattern at beginning of target string.\n",
    "# If the match is available then we will get Match object, otherwise we will get None.\n",
    "\n",
    "\n",
    "import re \n",
    "s=input(\"Enter pattern to check: \") \n",
    "m=re.match(s,\"abcabdefg\") \n",
    "if m!= None: \n",
    "    print(\"Match is available at the beginning of the String\") \n",
    "    print(\"Start Index:\",m.start(), \"and End Index:\",m.end()) \n",
    "else: \n",
    "    print(\"Match is not available at the beginning of the String\") "
   ]
  },
  {
   "cell_type": "code",
   "execution_count": 7,
   "id": "8f2437a5",
   "metadata": {},
   "outputs": [
    {
     "name": "stdout",
     "output_type": "stream",
     "text": [
      "Enter pattern to check: ababab\n",
      "Full String Matched\n"
     ]
    }
   ],
   "source": [
    "# 2) fullmatch():\n",
    "# We can use fullmatch() function to match a pattern to all of target string. i.e complete \n",
    "# string should be matched according to given pattern.\n",
    "# If complete string matched then this function returns Match object otherwise it returns None.\n",
    "\n",
    "import re \n",
    "s=input(\"Enter pattern to check: \") \n",
    "m=re.fullmatch(s,\"ababab\") \n",
    "if m!= None: \n",
    "    print(\"Full String Matched\") \n",
    "else: \n",
    "    print(\"Full String not Matched\")"
   ]
  },
  {
   "cell_type": "code",
   "execution_count": 17,
   "id": "e4e0ae8e",
   "metadata": {},
   "outputs": [
    {
     "name": "stdout",
     "output_type": "stream",
     "text": [
      "Enter pattern to check: a\n",
      "Match is available\n",
      "First Occurrence of match with start index: 0 and end index: 1\n"
     ]
    }
   ],
   "source": [
    "# 3)search():\n",
    "# We can use search() function to search the given pattern in the target string.\n",
    "# If the match is available then it returns the Match object which represents first \n",
    "# occurrence of the match.\n",
    "# If the match is not available then it returns None\n",
    "\n",
    "\n",
    "import re \n",
    "s=input(\"Enter pattern to check: \") \n",
    "m=re.search(s,\"abaaaba\") \n",
    "if m!= None: \n",
    "    print(\"Match is available\") \n",
    "    print(\"First Occurrence of match with start index:\",m.start(),\"and end index:\",m.end()) \n",
    "else: \n",
    "    print(\"Match is not available\")"
   ]
  },
  {
   "cell_type": "code",
   "execution_count": 20,
   "id": "ed8d0065",
   "metadata": {},
   "outputs": [
    {
     "name": "stdout",
     "output_type": "stream",
     "text": [
      "['7', '9', '5']\n"
     ]
    }
   ],
   "source": [
    "# findall():\n",
    "# To find all occurrences of the match.\n",
    "# This function returns a list object which contains all occurrences.\n",
    "\n",
    "import re \n",
    "l=re.findall(\"[0-9]\",\"a7b9c5kz\") \n",
    "\n",
    "print(l) "
   ]
  },
  {
   "cell_type": "code",
   "execution_count": 22,
   "id": "67c2742b",
   "metadata": {},
   "outputs": [
    {
     "name": "stdout",
     "output_type": "stream",
     "text": [
      "0 __ 1 ... a\n",
      "2 __ 3 ... b\n",
      "4 __ 5 ... c\n",
      "6 __ 7 ... k\n",
      "8 __ 9 ... z\n"
     ]
    }
   ],
   "source": [
    "# finditer():\n",
    "# Returns the iterator yielding a match object for each match.\n",
    "# On each match object we can call start(), end() and group() functions.\n",
    "\n",
    "import re \n",
    "itr=re.finditer(\"[a-z]\",\"a7b9c5k8z\") \n",
    "for m in itr: \n",
    "    print(m.start(),\"__\",m.end(),\"...\",m.group())"
   ]
  },
  {
   "cell_type": "code",
   "execution_count": 23,
   "id": "9726b1b7",
   "metadata": {},
   "outputs": [
    {
     "name": "stdout",
     "output_type": "stream",
     "text": [
      "#7#9#5#8#\n"
     ]
    }
   ],
   "source": [
    "# sub():\n",
    "# sub means substitution or replacement.\n",
    "\n",
    "# re.sub(regex,replacement,targetstring)                # regex means regular expression\n",
    "\n",
    "# In the target string every matched pattern will be replaced with provided replacement.\n",
    "\n",
    "import re \n",
    "s=re.sub(\"[a-z]\",\"#\",\"a7b9c5k8z\") \n",
    "print(s) \n"
   ]
  },
  {
   "cell_type": "code",
   "execution_count": 24,
   "id": "85def314",
   "metadata": {},
   "outputs": [
    {
     "name": "stdout",
     "output_type": "stream",
     "text": [
      "a♦b♦c♦k♦z\n"
     ]
    }
   ],
   "source": [
    "import re\n",
    "s = re.sub(\"[0-9]\", \"♦\" , \"a7b9c5k8z\")\n",
    "print(s)"
   ]
  },
  {
   "cell_type": "code",
   "execution_count": 25,
   "id": "d26eceaa",
   "metadata": {},
   "outputs": [
    {
     "name": "stdout",
     "output_type": "stream",
     "text": [
      "('#7#9#5#8#', 5)\n",
      "The Result String: #7#9#5#8#\n",
      "The number of replacements: 5\n"
     ]
    }
   ],
   "source": [
    "# subn():\n",
    "# It is exactly same as sub except it can also returns the number of replacements.\n",
    "# This function returns a tuple where first element is result string and second element is \n",
    "# number of replacements.\n",
    "# (resultstring, number of replacements)\n",
    "\n",
    "\n",
    "import re \n",
    "t=re.subn(\"[a-z]\",\"#\",\"a7b9c5k8z\") \n",
    "print(t) \n",
    "print(\"The Result String:\",t[0]) \n",
    "print(\"The number of replacements:\",t[1])"
   ]
  },
  {
   "cell_type": "code",
   "execution_count": 5,
   "id": "b07340cc",
   "metadata": {},
   "outputs": [
    {
     "name": "stdout",
     "output_type": "stream",
     "text": [
      "['sunny', 'bunny', 'chinny', 'vinny', 'pinny']\n",
      "sunny\n",
      "bunny\n",
      "chinny\n",
      "vinny\n",
      "pinny\n"
     ]
    }
   ],
   "source": [
    "# split():\n",
    "# If we want to split the given target string according to a particular pattern then we \n",
    "# should go for split() function.\n",
    "# This function returns list of all tokens.\n",
    "\n",
    "import re \n",
    "l=re.split(\",\",\"sunny,bunny,chinny,vinny,pinny\") \n",
    "print(l) \n",
    "for t in l: \n",
    "    print(t)"
   ]
  },
  {
   "cell_type": "code",
   "execution_count": 11,
   "id": "8d2792cd",
   "metadata": {},
   "outputs": [
    {
     "name": "stdout",
     "output_type": "stream",
     "text": [
      "['www', 'benateck', 'blogspot', 'com']\n",
      "www\n",
      "benateck\n",
      "blogspot\n",
      "com\n"
     ]
    }
   ],
   "source": [
    "import re \n",
    "l=re.split(\"\\.\",\"www.benateck.blogspot.com\")      # [.]\n",
    "print(l) \n",
    "for t in l: \n",
    "    print(t)"
   ]
  },
  {
   "cell_type": "code",
   "execution_count": 23,
   "id": "0e8dd37d",
   "metadata": {},
   "outputs": [
    {
     "name": "stdout",
     "output_type": "stream",
     "text": [
      "['www.benateck.blogspot.com']\n",
      "www.benateck.blogspot.com\n"
     ]
    }
   ],
   "source": [
    "import re \n",
    "l=re.split(\" \",\"www.benateck.blogspot.com\") \n",
    "print(l) \n",
    "for t in l: \n",
    "    print(t)"
   ]
  },
  {
   "cell_type": "code",
   "execution_count": null,
   "id": "49d2e35f",
   "metadata": {},
   "outputs": [],
   "source": []
  },
  {
   "cell_type": "code",
   "execution_count": 26,
   "id": "151fcee7",
   "metadata": {},
   "outputs": [
    {
     "name": "stdout",
     "output_type": "stream",
     "text": [
      "Target String starts with Learn\n"
     ]
    }
   ],
   "source": [
    "# ^ symbol:\n",
    "# We can use ^ symbol to check whether the given target string starts with our provided \n",
    "# pattern or not.\n",
    "# Eg: res = re.search(\"^Learn\",s)\n",
    "# If the target string starts with learn then it will return Match object,otherwise returns \n",
    "# None.\n",
    "\n",
    "\n",
    "import re \n",
    "s=\"Learning Python is Very Easy\" \n",
    "res=re.search(\"^Learn\",s) \n",
    "if res != None: \n",
    "    print(\"Target String starts with Learn\") \n",
    "else: \n",
    "    print(\"Target String Not starts with Learn\")"
   ]
  },
  {
   "cell_type": "code",
   "execution_count": 28,
   "id": "11d1123e",
   "metadata": {},
   "outputs": [
    {
     "name": "stdout",
     "output_type": "stream",
     "text": [
      "Target String starts with Learn\n"
     ]
    }
   ],
   "source": [
    "# ^ symbol:\n",
    "# We can use ^ symbol to check whether the given target string starts with our provided \n",
    "# pattern or not.\n",
    "# Eg: res = re.search(\"^Learn\",s)\n",
    "# If the target string starts with learn then it will return Match object,otherwise returns \n",
    "# None.\n",
    "\n",
    "\n",
    "import re \n",
    "s=\"Learning Python is Very Easy\" \n",
    "res=re.search(\"^Learn\",s) \n",
    "if res != None: \n",
    "    print(\"Target String starts with Learn\") \n",
    "else: \n",
    "    print(\"Target String Not starts with Learn\")"
   ]
  },
  {
   "cell_type": "code",
   "execution_count": null,
   "id": "a32af5c6",
   "metadata": {},
   "outputs": [],
   "source": []
  },
  {
   "cell_type": "code",
   "execution_count": 29,
   "id": "6ed32559",
   "metadata": {},
   "outputs": [
    {
     "name": "stdout",
     "output_type": "stream",
     "text": [
      "Target String ends with Easy\n"
     ]
    }
   ],
   "source": [
    "# $ symbol:\n",
    "# We can use $ symbol to check whether the given target string ends with our \n",
    "# provided pattern or not.\n",
    "# Eg: res = re.search(\"Easy$\",s)\n",
    "# If the target string ends with Easy then it will return Match object,otherwise \n",
    "# returns None.\n",
    "\n",
    "import re \n",
    "s=\"Learning Python is Very Easy\" \n",
    "res=re.search(\"Easy$\",s)\n",
    "if res != None: \n",
    "    print(\"Target String ends with Easy\") \n",
    "else: \n",
    "    print(\"Target String Not ends with Easy\") "
   ]
  },
  {
   "cell_type": "code",
   "execution_count": null,
   "id": "179996be",
   "metadata": {},
   "outputs": [],
   "source": [
    "# Note: If we want to ignore case then we have to pass 3rd argument re.IGNORECASE for \n",
    "# search() function.\n",
    "# Eg: res = re.search(\"easy$\",s,re.IGNORECASE)"
   ]
  },
  {
   "cell_type": "code",
   "execution_count": 30,
   "id": "74ee0775",
   "metadata": {},
   "outputs": [
    {
     "name": "stdout",
     "output_type": "stream",
     "text": [
      "Target String ends with Easy by ignoring case\n"
     ]
    }
   ],
   "source": [
    "import re \n",
    "s=\"Learning Python is Very Easy\" \n",
    "res=re.search(\"easy$\",s,re.IGNORECASE) \n",
    "if res != None: \n",
    "    print(\"Target String ends with Easy by ignoring case\") \n",
    "else: \n",
    "    print(\"Target String Not ends with Easy by ignoring case\") "
   ]
  },
  {
   "cell_type": "code",
   "execution_count": null,
   "id": "16cc856b",
   "metadata": {},
   "outputs": [],
   "source": []
  },
  {
   "cell_type": "code",
   "execution_count": null,
   "id": "fc1884eb",
   "metadata": {},
   "outputs": [],
   "source": []
  },
  {
   "cell_type": "markdown",
   "id": "a10c619f",
   "metadata": {},
   "source": [
    "# Write a Regular Expression to represent all Yava \n",
    "# Language Identifiers"
   ]
  },
  {
   "cell_type": "raw",
   "id": "4fe75b49",
   "metadata": {},
   "source": [
    "Rules:\n",
    "1) The allowed characters are a-z,A-Z,0-9,#\n",
    "2) The first character should be a lower case alphabet symbol from a to k\n",
    "3) The second character should be a digit divisible by 3\n",
    "4) The length of identifier should be atleast 2.\n",
    " [a-k][0369][a-zA-Z0-9#]*\n"
   ]
  },
  {
   "cell_type": "markdown",
   "id": "b978f5b8",
   "metadata": {},
   "source": [
    "Write a Python Program to check whether the given \n",
    "String is Yava Language Identifier OR not?"
   ]
  },
  {
   "cell_type": "code",
   "execution_count": 34,
   "id": "05fac438",
   "metadata": {},
   "outputs": [
    {
     "name": "stdout",
     "output_type": "stream",
     "text": [
      "Enter Identifier:b3nateck\n",
      "b3nateck is valid Yava Identifier\n"
     ]
    }
   ],
   "source": [
    "import re \n",
    "s=input(\"Enter Identifier:\") \n",
    "m=re.fullmatch(\"[a-k][0369][a-zA-Z0-9#]*\",s) \n",
    "if m!= None: \n",
    "    print(s,\"is valid Yava Identifier\") \n",
    "    \n",
    "else: \n",
    "    print(s,\"is invalid Yava Identifier\")"
   ]
  },
  {
   "cell_type": "markdown",
   "id": "1dd8aa1c",
   "metadata": {},
   "source": [
    "# Write a Regular Expression to represent all 10 Digit \n",
    "# Mobile Numbers"
   ]
  },
  {
   "cell_type": "raw",
   "id": "69837b86",
   "metadata": {},
   "source": [
    "Rules:\n",
    "1) Every Number should contains exactly 10 Digits\n",
    "2) The 1st Digit should be 7 OR 8 OR 9\n",
    "[7-9][0-9][0-9][0-9][0-9][0-9][0-9][0-9][0-9][0-9]\n",
    "\n",
    " OR\n",
    "[7-9][0-9]{9}\n",
    "\n",
    " OR\n",
    "[7-9]\\d{9}\n"
   ]
  },
  {
   "cell_type": "markdown",
   "id": "33a0f4e3",
   "metadata": {},
   "source": [
    "Write a Python Program to check whether the given \n",
    "Number is valid Mobile Number OR not?"
   ]
  },
  {
   "cell_type": "code",
   "execution_count": 42,
   "id": "0c23ee21",
   "metadata": {},
   "outputs": [
    {
     "name": "stdout",
     "output_type": "stream",
     "text": [
      "Enter number:7546039528\n",
      "Valid Mobile Number\n"
     ]
    }
   ],
   "source": [
    "import re \n",
    "n=input(\"Enter number:\") \n",
    "m=re.fullmatch(\"[7-9]\\d{1,9}\",n) \n",
    "if m!= None: \n",
    "    print(\"Valid Mobile Number\") \n",
    "    \n",
    "else: \n",
    "    print(\"Invalid Mobile Number\")"
   ]
  },
  {
   "cell_type": "code",
   "execution_count": null,
   "id": "9bcae3c3",
   "metadata": {},
   "outputs": [],
   "source": []
  },
  {
   "cell_type": "markdown",
   "id": "3fb60b8b",
   "metadata": {},
   "source": [
    "Write a Python Program to extract all Mobile Numbers present in \n",
    "input.txt where Numbers are mixed with Normal Text Data\n"
   ]
  },
  {
   "cell_type": "code",
   "execution_count": 72,
   "id": "55c18897",
   "metadata": {},
   "outputs": [
    {
     "name": "stdout",
     "output_type": "stream",
     "text": [
      "Extracted all Mobile Number into output.txt\n"
     ]
    }
   ],
   "source": [
    "import re \n",
    "\n",
    "f1 = open(\"input.txt\" , \"r\")\n",
    "f2 = open(\"output.txt\" , \"w\")\n",
    "\n",
    "for line in f1:\n",
    "    list = re.findall(\"[6-9]\\d{9}\" , line)\n",
    "    #print(list)\n",
    "    for number in list:\n",
    "        \n",
    "        f = f2.write(number + \"\\n\")\n",
    "\n",
    "print(\"Extracted all Mobile Number into output.txt\")\n",
    "\n",
    "f1.close()\n",
    "f2.close()"
   ]
  },
  {
   "cell_type": "code",
   "execution_count": null,
   "id": "b0c2425f",
   "metadata": {},
   "outputs": [],
   "source": []
  }
 ],
 "metadata": {
  "kernelspec": {
   "display_name": "Python 3 (ipykernel)",
   "language": "python",
   "name": "python3"
  },
  "language_info": {
   "codemirror_mode": {
    "name": "ipython",
    "version": 3
   },
   "file_extension": ".py",
   "mimetype": "text/x-python",
   "name": "python",
   "nbconvert_exporter": "python",
   "pygments_lexer": "ipython3",
   "version": "3.9.7"
  }
 },
 "nbformat": 4,
 "nbformat_minor": 5
}
