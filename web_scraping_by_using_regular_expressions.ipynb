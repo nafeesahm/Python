{
 "cells": [
  {
   "cell_type": "raw",
   "id": "9babad2f",
   "metadata": {},
   "source": [
    "the processing of collecting information from web pages is called web scraping ...\n",
    "\n",
    "\n",
    "in web scraping  to match our requirement pattern like mail id , mobile number , we can use regular expression\n"
   ]
  },
  {
   "cell_type": "code",
   "execution_count": 8,
   "id": "8ed29966",
   "metadata": {},
   "outputs": [
    {
     "name": "stdout",
     "output_type": "stream",
     "text": [
      "searching for...  http://google.com\n",
      "<class 'bytes'>\n",
      "['<title>Google</title>']\n",
      "searching for...  http://benateck.blogspot.com\n",
      "<class 'bytes'>\n",
      "['<title>benateck.com</title>']\n"
     ]
    }
   ],
   "source": [
    "import re\n",
    "import urllib\n",
    "import urllib.request\n",
    "\n",
    "sites = ['http://google.com' , 'http://benateck.blogspot.com']\n",
    "for s in sites:\n",
    "    print(\"searching for... \" , s)\n",
    "    u = urllib.request.urlopen(s)\n",
    "\n",
    "    text = u.read()\n",
    "    print(type(text))\n",
    "    \n",
    "    title = re.findall(\"<title>.*</title>\", str(text) , re.IGNORECASE)\n",
    "    print(title)\n",
    "    "
   ]
  },
  {
   "cell_type": "code",
   "execution_count": 3,
   "id": "f5979cb2",
   "metadata": {},
   "outputs": [
    {
     "name": "stdout",
     "output_type": "stream",
     "text": [
      "searching for...  google\n",
      "<class 'bytes'>\n",
      "['<title>Google</title>']\n",
      "\n",
      "searching for...  benateck.blogspot\n",
      "<class 'bytes'>\n",
      "['<title>benateck.com</title>']\n",
      "\n"
     ]
    }
   ],
   "source": [
    "import re\n",
    "import urllib\n",
    "import urllib.request\n",
    "\n",
    "sites = 'google benateck.blogspot'\n",
    "site = sites.split()\n",
    "for s in site:\n",
    "    print(\"searching for... \" , s)\n",
    "    u = urllib.request.urlopen(\"http://\" +s+ \".com\")\n",
    "\n",
    "    text = u.read()      \n",
    "    print(type(text))        # byte \n",
    "    \n",
    "    t = str(text)    \n",
    "    title = re.findall(\"<title>.*</title>\",  t  , re.IGNORECASE)\n",
    "    print(title)\n",
    "    \n",
    "    print()"
   ]
  },
  {
   "cell_type": "code",
   "execution_count": null,
   "id": "8ea820b7",
   "metadata": {},
   "outputs": [],
   "source": []
  },
  {
   "cell_type": "markdown",
   "id": "361d6ec8",
   "metadata": {},
   "source": [
    "# program to get all number of redbus.in by using web scraping and regular expression"
   ]
  },
  {
   "cell_type": "code",
   "execution_count": 12,
   "id": "c83d50be",
   "metadata": {},
   "outputs": [
    {
     "name": "stdout",
     "output_type": "stream",
     "text": [
      "['0197420947545', '919945600000', '919945600000', '919945600000']\n",
      "all contact:::\n",
      "0197420947545\n",
      "919945600000\n",
      "919945600000\n",
      "919945600000\n"
     ]
    }
   ],
   "source": [
    "import re            # regular expression\n",
    "import urllib        # web scraping module\n",
    "import urllib.request\n",
    "\n",
    "u = urllib.request.urlopen(\"https://www.redbus.in/info/contactus/\")\n",
    "#print(type(u))\n",
    "text = str(u.read())\n",
    "numbers = re.findall(\"[0-9]{10,15}\", text)\n",
    "print(numbers)\n",
    "print(\"all contact:::\")\n",
    "for x in numbers:\n",
    "#     if len(x)>10:\n",
    "        print(x)\n",
    "   "
   ]
  },
  {
   "cell_type": "code",
   "execution_count": null,
   "id": "3f5f663c",
   "metadata": {},
   "outputs": [],
   "source": []
  },
  {
   "cell_type": "markdown",
   "id": "c6998294",
   "metadata": {},
   "source": [
    "# write a python program to chack whether the given mail   is valid gmail id or not"
   ]
  },
  {
   "cell_type": "code",
   "execution_count": 13,
   "id": "e74bc42f",
   "metadata": {},
   "outputs": [
    {
     "name": "stdout",
     "output_type": "stream",
     "text": [
      "Enter mail id : ahmadnafees019@gmail.com\n",
      "Valid mail id\n"
     ]
    }
   ],
   "source": [
    "import re\n",
    "\n",
    "s = input(\"Enter mail id : \")\n",
    "m = re.fullmatch(\"\\w[a-zA-Z0-9_.]*@gmail[.]com\" , s)\n",
    "if m!= None:\n",
    "    print(\"Valid mail id\")\n",
    "else:\n",
    "    print(\"Invalid mail id\")"
   ]
  },
  {
   "cell_type": "code",
   "execution_count": null,
   "id": "fea5f089",
   "metadata": {},
   "outputs": [],
   "source": []
  },
  {
   "cell_type": "markdown",
   "id": "41b1b87c",
   "metadata": {},
   "source": [
    "# write a python program to check wether given car registration number is valid bihar state registration number or not "
   ]
  },
  {
   "cell_type": "code",
   "execution_count": 11,
   "id": "9159b431",
   "metadata": {},
   "outputs": [
    {
     "name": "stdout",
     "output_type": "stream",
     "text": [
      "Enter vehicle Registration number : RJ14DT4977\n",
      "Valid vehicle Registration number\n"
     ]
    }
   ],
   "source": [
    "import re \n",
    "\n",
    "s = input(\"Enter vehicle Registration number : \")\n",
    "m = re.fullmatch(\"RJ[0-9]{2}[A-Z]{2}\\d{4}\" , s)\n",
    "\n",
    "if m!= None:\n",
    "    print(\"Valid vehicle Registration number\")\n",
    "    \n",
    "else:\n",
    "    print(\"Invalid Vehicle Registration number\")"
   ]
  },
  {
   "cell_type": "code",
   "execution_count": null,
   "id": "3e432bc6",
   "metadata": {},
   "outputs": [],
   "source": []
  },
  {
   "cell_type": "markdown",
   "id": "df46683d",
   "metadata": {},
   "source": [
    "# program to check whether the given mobile number is valid or not (10 Digit or 11 Digit or 12 Digit)\n"
   ]
  },
  {
   "cell_type": "code",
   "execution_count": 17,
   "id": "9302b69a",
   "metadata": {},
   "outputs": [
    {
     "name": "stdout",
     "output_type": "stream",
     "text": [
      "Enter Mobile number : 07546039528\n",
      "Valid Mobile mobile\n"
     ]
    }
   ],
   "source": [
    "import re\n",
    "s = input(\"Enter Mobile number : \")\n",
    "m = re.fullmatch(\"(0|91)?[7-9][0-9]{9}\", s)\n",
    "if m!= None:\n",
    "    print(\"Valid Mobile mobile\")\n",
    "\n",
    "else:\n",
    "    print(\"Invalid Mobile Number\")\n"
   ]
  },
  {
   "cell_type": "code",
   "execution_count": null,
   "id": "4020fcb2",
   "metadata": {},
   "outputs": [],
   "source": []
  },
  {
   "cell_type": "code",
   "execution_count": null,
   "id": "54751276",
   "metadata": {},
   "outputs": [],
   "source": []
  },
  {
   "cell_type": "markdown",
   "id": "3d81c79a",
   "metadata": {},
   "source": [
    "# program to collect all .com urls from the given txt file"
   ]
  },
  {
   "cell_type": "code",
   "execution_count": 42,
   "id": "9653faf1",
   "metadata": {},
   "outputs": [
    {
     "name": "stdout",
     "output_type": "stream",
     "text": [
      "['benateck.com', 'facebook.com', 'google.com', 'udemy.com', 'flipkart.com', 'amazon.com']\n"
     ]
    }
   ],
   "source": [
    "import re\n",
    "\n",
    "f1= open(\"url.txt\" , \"r\")\n",
    "r = f1.read()\n",
    "\n",
    "for line in r:\n",
    "    m = re.findall(\"[a-z]+[.]com\", r)\n",
    " \n",
    "\n",
    "print(m)\n",
    "\n"
   ]
  },
  {
   "cell_type": "code",
   "execution_count": null,
   "id": "33d49fff",
   "metadata": {},
   "outputs": [],
   "source": []
  },
  {
   "cell_type": "markdown",
   "id": "51efce4d",
   "metadata": {},
   "source": [
    "# write a program to display all .txt  file names present in D:\\NAFEES AHMAD\\pycharmproject"
   ]
  },
  {
   "cell_type": "code",
   "execution_count": null,
   "id": "21ccd5d0",
   "metadata": {},
   "outputs": [],
   "source": []
  }
 ],
 "metadata": {
  "kernelspec": {
   "display_name": "Python 3 (ipykernel)",
   "language": "python",
   "name": "python3"
  },
  "language_info": {
   "codemirror_mode": {
    "name": "ipython",
    "version": 3
   },
   "file_extension": ".py",
   "mimetype": "text/x-python",
   "name": "python",
   "nbconvert_exporter": "python",
   "pygments_lexer": "ipython3",
   "version": "3.9.7"
  }
 },
 "nbformat": 4,
 "nbformat_minor": 5
}
