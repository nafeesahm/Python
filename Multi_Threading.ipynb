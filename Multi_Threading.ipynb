{
 "cells": [
  {
   "cell_type": "markdown",
   "id": "bdeef522",
   "metadata": {},
   "source": [
    "# MULTI THREADING\n"
   ]
  },
  {
   "cell_type": "raw",
   "id": "3e7ca003",
   "metadata": {},
   "source": [
    "Multi Tasking:\n",
    "    \n",
    "Executing several tasks simultaneously is the concept of multitasking.\n",
    "There are 2 types of Multi Tasking\n",
    "1) Process based Multi Tasking\n",
    "2) Thread based Multi Tasking\n"
   ]
  },
  {
   "cell_type": "raw",
   "id": "31ec15c0",
   "metadata": {},
   "source": [
    "1)Process based Multi Tasking:\n",
    "    \n",
    "Executing several tasks simmultaneously where each task is a seperate independent \n",
    "process is called process based multi tasking.\n",
    "\n",
    "Eg: while typing python program in the editor we can listen mp3 audio songs from the \n",
    "same system. At the same time we can download a file from the internet. All these \n",
    "taks are executing simultaneously and independent of each other. Hence it is process \n",
    "based multi tasking.\n",
    "This type of multi tasking is best suitable at operating system level."
   ]
  },
  {
   "cell_type": "code",
   "execution_count": null,
   "id": "e3a4e0d3",
   "metadata": {},
   "outputs": [],
   "source": [
    "2)Thread based MultiTasking:\n",
    "    \n",
    "♦ Executing several tasks simultaneously where each task is a seperate independent part \n",
    "of the same program, is called Thread based multi tasking, and each independent part \n",
    "is called a Thread.\n",
    "♦ This type of multi tasking is best suitable at programmatic level.\n",
    "\n",
    "Note: Whether it is process based or thread based, the main advantage of multi tasking is \n",
    "to improve performance of the system by reducing response time.\n",
    "\n",
    "The main important application areas of multi threading are:\n",
    "1) To implement Multimedia graphics \n",
    "2) To develop animations\n",
    "3) To develop video games\n",
    "4) To develop web and application servers\n",
    "etc...\n"
   ]
  },
  {
   "cell_type": "code",
   "execution_count": null,
   "id": "5a153669",
   "metadata": {},
   "outputs": [],
   "source": [
    "Note: Where ever a group of independent jobs are available, then it is highly \n",
    "recommended to execute simultaneously instead of executing one by one.For such type of \n",
    "cases we should go for Multi Threading.\n",
    "\n",
    "♦ Python provides one inbuilt module \"threading\" to provide support for developing \n",
    "threads. Hence developing multi threaded Programs is very easy in python.\n",
    "♦ Every Python Program by default contains one thread which is nothing but \n",
    "MainThread.\n"
   ]
  },
  {
   "cell_type": "markdown",
   "id": "e27fa2f7",
   "metadata": {},
   "source": [
    "# Q) Program to print Name of Current executing Thread"
   ]
  },
  {
   "cell_type": "code",
   "execution_count": null,
   "id": "84e69543",
   "metadata": {},
   "outputs": [],
   "source": [
    "import threading\n",
    "print(\"Current Executing Thread : \", threading.current_thread().getName())"
   ]
  },
  {
   "cell_type": "raw",
   "id": "62b09271",
   "metadata": {},
   "source": [
    "Note: threading module contains function current_thread() which returns the current executing Thread object. \n",
    "On this object if we call getName() method then we will get current executing thread name"
   ]
  },
  {
   "cell_type": "code",
   "execution_count": null,
   "id": "6f35002e",
   "metadata": {},
   "outputs": [],
   "source": []
  },
  {
   "cell_type": "raw",
   "id": "f5c53898",
   "metadata": {},
   "source": [
    "The ways of Creating Thread in Python:\n",
    "We can create a thread in Python by using 3 ways\n",
    "1) Creating a Thread without using any class\n",
    "2) Creating a Thread by extending Thread class\n",
    "3) Creating a Thread without extending Thread class\n"
   ]
  },
  {
   "cell_type": "markdown",
   "id": "9ce22859",
   "metadata": {},
   "source": [
    "# 1) Creating a Thread without using any class"
   ]
  },
  {
   "cell_type": "code",
   "execution_count": null,
   "id": "1396de6e",
   "metadata": {},
   "outputs": [],
   "source": [
    "from threading import *\n",
    "def display():\n",
    "    print(\"This code (display function) executed by Thread : \", current_thread().getName() )\n",
    "    \n",
    "t1 = Thread(target = display)     #class thread\n",
    "t1.start()\n",
    "\n",
    "print(\"This code (display function) executed by Thread : \", current_thread().getName() )"
   ]
  },
  {
   "cell_type": "code",
   "execution_count": null,
   "id": "1919bbe1",
   "metadata": {},
   "outputs": [],
   "source": [
    "from threading import *\n",
    "def display():\n",
    "    print(\"This code (display function) executed by Thread : \", current_thread().getName() )\n",
    "    \n",
    "Thread(target = display).start()\n"
   ]
  },
  {
   "cell_type": "code",
   "execution_count": null,
   "id": "820c22f6",
   "metadata": {},
   "outputs": [],
   "source": [
    "from threading import *\n",
    "def  display():\n",
    "    for i in range(1,11):\n",
    "        print(\"Child Thread\")\n",
    "    \n",
    "t= Thread(target= display)   # creating thread object\n",
    "t.start()                    # starting of thread\n",
    "print()\n",
    "\n",
    "for i in range(1,11):\n",
    "    print(\"Main Thread\")\n"
   ]
  },
  {
   "cell_type": "raw",
   "id": "5121e98e",
   "metadata": {},
   "source": [
    "If multiple threads present in our program, then we cannot expect execution order and \n",
    "hence we cannot expect exact output for the multi threaded programs. B'z of this we \n",
    "cannot provide exact output for the above program.It is varied from machine to machine \n",
    "and run to run.\n",
    "\n",
    "Note: Thread is a pre defined class present in threading module which can be used to \n",
    "create our own Threads."
   ]
  },
  {
   "cell_type": "code",
   "execution_count": null,
   "id": "cea1f2b9",
   "metadata": {},
   "outputs": [],
   "source": []
  },
  {
   "cell_type": "markdown",
   "id": "89107f47",
   "metadata": {},
   "source": [
    "# 2) Creating a Thread by extending Thread class"
   ]
  },
  {
   "cell_type": "markdown",
   "id": "319aa4d8",
   "metadata": {},
   "source": [
    "We have to create child class for Thread class. In that child class we have to override \n",
    "run() method with our required job. Whenever we call start() method then \n",
    "automatically run() method will be executed and performs our job."
   ]
  },
  {
   "cell_type": "code",
   "execution_count": null,
   "id": "6f88caa1",
   "metadata": {},
   "outputs": [],
   "source": [
    "from threading import *\n",
    "class MyThread(Thread):              # child class of Thread\n",
    "    def run(self):                   # automatically run() method executed\n",
    "        for i in range(10):\n",
    "            print(\"Child Thread-1\")\n",
    "\n",
    "t= MyThread()      # object created\n",
    "t.start()          # run method call automatic when start\n",
    "\n",
    "for i in range(10):\n",
    "    print(\"Main Thread-1\")"
   ]
  },
  {
   "cell_type": "code",
   "execution_count": null,
   "id": "1d08df31",
   "metadata": {},
   "outputs": [],
   "source": []
  },
  {
   "cell_type": "markdown",
   "id": "cac6741b",
   "metadata": {},
   "source": [
    "# 3)Creating a Thread without extending Thread Class"
   ]
  },
  {
   "cell_type": "code",
   "execution_count": null,
   "id": "4551459f",
   "metadata": {},
   "outputs": [],
   "source": [
    "from threading import *\n",
    "class Test:\n",
    "    def display(self):\n",
    "        for i in range(10):\n",
    "            print(\"child Thread-2\")\n",
    "            \n",
    "obj = Test()\n",
    "t = Thread(target = obj.display)\n",
    "t.start()\n",
    "\n",
    "for i in range(10):\n",
    "    print(\"Main Thread-2\")"
   ]
  },
  {
   "cell_type": "code",
   "execution_count": null,
   "id": "7ad32288",
   "metadata": {},
   "outputs": [],
   "source": []
  },
  {
   "cell_type": "markdown",
   "id": "28803a58",
   "metadata": {},
   "source": [
    "# Without MultiThreading"
   ]
  },
  {
   "cell_type": "code",
   "execution_count": null,
   "id": "69289f3e",
   "metadata": {},
   "outputs": [],
   "source": [
    "from threading import *\n",
    "import time\n",
    "\n",
    "def double(number):\n",
    "    for n in number:\n",
    "        time.sleep(1)\n",
    "        print(\"Double : \" , 2*n)\n",
    "        \n",
    "def square(number):\n",
    "    for n in number:\n",
    "        time.sleep(1)\n",
    "        print(\"Square : \", n*n)\n",
    "\n",
    "number = [1,2,3,4,5,6]\n",
    "begaintime = time.time()\n",
    "double(number)\n",
    "square(number)\n",
    "endtime = time.time()\n",
    "print(\"the total time taken: \" ,int(endtime - begaintime), \"second\")\n"
   ]
  },
  {
   "cell_type": "code",
   "execution_count": null,
   "id": "2428e9fc",
   "metadata": {},
   "outputs": [],
   "source": [
    "from threading import *\n",
    "import time\n",
    "\n",
    "def double(number):\n",
    "    for n in range(number):\n",
    "        time.sleep(1)\n",
    "        print(\"Double : \" , 2*n)\n",
    "        \n",
    "def square(number):\n",
    "    for n in range(number):\n",
    "        time.sleep(1)\n",
    "        print(\"Square : \", n*n)\n",
    "\n",
    "number = 70\n",
    "begaintime = time.time()\n",
    "double(number)\n",
    "square(number)\n",
    "endtime = time.time()\n",
    "\n",
    "if int(endtime - begaintime) > 60: \n",
    "    print(\"the total time taken: \" ,int(endtime - begaintime)/60, \"minute\")\n",
    "else:\n",
    "    print(\"the total time taken: \" ,int(endtime - begaintime), \"second\")"
   ]
  },
  {
   "cell_type": "markdown",
   "id": "bb5bf142",
   "metadata": {},
   "source": [
    "# With Multi Threading"
   ]
  },
  {
   "cell_type": "code",
   "execution_count": null,
   "id": "fd6262f1",
   "metadata": {},
   "outputs": [],
   "source": [
    "from threading import *\n",
    "import time\n",
    "def double(number):\n",
    "    for n in number:\n",
    "        time.sleep(1)\n",
    "        print(\"Double : \", 2*n)\n",
    "def square(number):\n",
    "    for n in number:\n",
    "        time.sleep(1)\n",
    "        print(\"Square : \" , n*n)\n",
    "        \n",
    "number = [1,2,3,4,5,6]\n",
    "begintime = time.time()\n",
    "t = Thread(target= double , args = (number,))\n",
    "t1 = Thread(target= square, args = (number,))\n",
    "t.start()\n",
    "t1.start()\n",
    "t.join()\n",
    "t1.join()\n",
    "\n",
    "print(\"The Total Time taken : \", time.time()-begintime)"
   ]
  },
  {
   "cell_type": "code",
   "execution_count": null,
   "id": "ee6f08a5",
   "metadata": {},
   "outputs": [],
   "source": []
  },
  {
   "cell_type": "markdown",
   "id": "65712dcf",
   "metadata": {},
   "source": [
    "# Setting and Getting Name of a Thread:"
   ]
  },
  {
   "cell_type": "raw",
   "id": "066d663c",
   "metadata": {},
   "source": [
    "Every thread in python has name. It may be default name generated by Python or \n",
    "Customized Name provided by programmer.\n",
    "\n",
    "We can get and set name of thread by using the following Thread class methods.\n",
    "t.getName()       ->  Returns Name of Thread\n",
    "t.setName(newName)->  To set our own name"
   ]
  },
  {
   "cell_type": "markdown",
   "id": "85025b80",
   "metadata": {},
   "source": [
    "Note: Every Thread has implicit variable \"name\" to represent name of Thread."
   ]
  },
  {
   "cell_type": "code",
   "execution_count": null,
   "id": "619af02b",
   "metadata": {},
   "outputs": [],
   "source": [
    "from threading import *\n",
    "print(current_thread().getName())\n",
    "current_thread().setName(\"Nafees_ahm\")\n",
    "\n",
    "print(current_thread().getName())\n",
    "print(current_thread().name)"
   ]
  },
  {
   "cell_type": "code",
   "execution_count": null,
   "id": "deb6fd73",
   "metadata": {},
   "outputs": [],
   "source": []
  },
  {
   "cell_type": "markdown",
   "id": "eaea5142",
   "metadata": {},
   "source": [
    "# Thread Identification Number (ident):"
   ]
  },
  {
   "cell_type": "raw",
   "id": "98739168",
   "metadata": {},
   "source": [
    "For every thread internally a unique identification number is available. We can access this \n",
    "id by using implicit variable \"ident\""
   ]
  },
  {
   "cell_type": "code",
   "execution_count": null,
   "id": "ff29130f",
   "metadata": {},
   "outputs": [],
   "source": [
    "from threading import *\n",
    "def test():\n",
    "    print(\"child Thread\")\n",
    "    \n",
    "t = Thread(target = test)\n",
    "t.start()\n",
    "\n",
    "print(\"Main Thread Identification number : \" , current_thread().ident)\n",
    "print(\"child Thread Identification Number : \" , t.ident)"
   ]
  },
  {
   "cell_type": "code",
   "execution_count": null,
   "id": "4ccf951d",
   "metadata": {},
   "outputs": [],
   "source": []
  },
  {
   "cell_type": "markdown",
   "id": "fa6cfaa9",
   "metadata": {},
   "source": [
    "# active_count():\n",
    "\n",
    "    "
   ]
  },
  {
   "cell_type": "markdown",
   "id": "ef2af690",
   "metadata": {},
   "source": [
    "this function returns the number of active threads currently  running "
   ]
  },
  {
   "cell_type": "code",
   "execution_count": 1,
   "id": "f1f4d3db",
   "metadata": {},
   "outputs": [
    {
     "name": "stdout",
     "output_type": "stream",
     "text": [
      "The Number of active Thread :  6\n",
      "child Thread-1 ....started\n",
      "child Thread-2 ....started\n",
      "child Thread-3 ....started\n",
      "The Number of active Thread :  9\n",
      "child Thread-1child Thread-3child Thread-2 ....ended\n",
      " ....ended\n",
      " ....ended\n",
      "The Number of active Thread :  6\n"
     ]
    }
   ],
   "source": [
    "from threading import *\n",
    "import time \n",
    "def display():\n",
    "    print(current_thread().getName() , \"....started\")\n",
    "    time.sleep(3)\n",
    "    print(current_thread().getName() , \"....ended\")\n",
    "    \n",
    "print(\"The Number of active Thread : \" , active_count())\n",
    "\n",
    "t1 = Thread(target = display , name = \"child Thread-1\")\n",
    "t2 = Thread(target = display , name = \"child Thread-2\")\n",
    "t3 = Thread(target = display , name = \"child Thread-3\")\n",
    "\n",
    "t1.start()\n",
    "t2.start()\n",
    "t3.start()\n",
    "\n",
    "print(\"The Number of active Thread : \" , active_count())\n",
    "time.sleep(5)\n",
    "print(\"The Number of active Thread : \" , active_count())\n"
   ]
  },
  {
   "cell_type": "code",
   "execution_count": null,
   "id": "5d3101fb",
   "metadata": {},
   "outputs": [],
   "source": []
  },
  {
   "cell_type": "markdown",
   "id": "a7ac72de",
   "metadata": {},
   "source": [
    "# enumerate() Function:\n"
   ]
  },
  {
   "cell_type": "markdown",
   "id": "6dbaa938",
   "metadata": {},
   "source": [
    "This function returns a list of all active threads currently running.\n"
   ]
  },
  {
   "cell_type": "code",
   "execution_count": 9,
   "id": "fc4016b7",
   "metadata": {},
   "outputs": [
    {
     "name": "stdout",
     "output_type": "stream",
     "text": [
      "childThread-1 ...started\n",
      "childThread-2 ...started\n",
      "childThread-3 ...started\n",
      "Thread Name :  MainThread\n",
      "Thread Name :  Thread-6\n",
      "Thread Name :  Thread-7\n",
      "Thread Name :  Thread-5\n",
      "Thread Name :  IPythonHistorySavingThread\n",
      "Thread Name :  Thread-4\n",
      "Thread Name :  childThread-1\n",
      "Thread Name :  childThread-2\n",
      "Thread Name :  childThread-3\n",
      "childThread-3childThread-2 ...ended\n",
      " childThread-1 ...ended\n",
      "...ended\n"
     ]
    }
   ],
   "source": [
    "from threading import *\n",
    "import time\n",
    "def display():\n",
    "    print(current_thread().getName(), \"...started\")\n",
    "    time.sleep(3)\n",
    "    print(current_thread().getName() , \"...ended\")\n",
    "    \n",
    "t1 = Thread(target = display , name = \"childThread-1\")\n",
    "t2 = Thread(target = display , name = \"childThread-2\")\n",
    "t3 = Thread(target = display , name = \"childThread-3\")\n",
    "\n",
    "t1.start()\n",
    "t2.start()\n",
    "t3.start()\n",
    "\n",
    "List = enumerate()\n",
    "for t in List:\n",
    "    print(\"Thread Name : \", t.name)"
   ]
  },
  {
   "cell_type": "code",
   "execution_count": null,
   "id": "a6eefc32",
   "metadata": {},
   "outputs": [],
   "source": []
  }
 ],
 "metadata": {
  "kernelspec": {
   "display_name": "Python 3 (ipykernel)",
   "language": "python",
   "name": "python3"
  },
  "language_info": {
   "codemirror_mode": {
    "name": "ipython",
    "version": 3
   },
   "file_extension": ".py",
   "mimetype": "text/x-python",
   "name": "python",
   "nbconvert_exporter": "python",
   "pygments_lexer": "ipython3",
   "version": "3.9.7"
  }
 },
 "nbformat": 4,
 "nbformat_minor": 5
}
