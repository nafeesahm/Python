{
 "cells": [
  {
   "cell_type": "code",
   "execution_count": 29,
   "id": "a672d24e",
   "metadata": {},
   "outputs": [
    {
     "name": "stderr",
     "output_type": "stream",
     "text": [
      "\n",
      "----------------------------------------------------------------------\n",
      "Ran 0 tests in 0.000s\n",
      "\n",
      "OK\n"
     ]
    },
    {
     "data": {
      "text/plain": [
       "<unittest.main.TestProgram at 0x22f168710d0>"
      ]
     },
     "execution_count": 29,
     "metadata": {},
     "output_type": "execute_result"
    }
   ],
   "source": [
    "\n",
    "import unittest\n",
    "class test(unittest.TestCase):\n",
    "\n",
    "    def SetUp(self):\n",
    "        print(\"SetUp Method Execution...\")\n",
    "\n",
    "    def Test(self):\n",
    "        print(\"Test method execution...\")\n",
    "\n",
    "    def tearDown(self):\n",
    "        print(\"tearDown method execution...\")\n",
    "\n",
    "unittest.main(argv=['first-arg-is-ignored'], exit=False)\n",
    "\n"
   ]
  },
  {
   "cell_type": "code",
   "execution_count": null,
   "id": "30df227b",
   "metadata": {},
   "outputs": [],
   "source": []
  },
  {
   "cell_type": "code",
   "execution_count": 30,
   "id": "843b5273",
   "metadata": {},
   "outputs": [],
   "source": [
    "# The reason is that unittest.main looks at sys.argv and first parameter is what started IPython or Jupyter,\n",
    "\n",
    "# therefore the error about kernel connection file not being a valid attribute.\n",
    "\n",
    "# Passing explicit list to unittest.main will prevent IPython and Jupyter look at sys.argv.\n",
    "\n",
    "# Passing exit=False will prevent unittest.main to shutdown the kernell process"
   ]
  },
  {
   "cell_type": "code",
   "execution_count": 33,
   "id": "5550ed5c",
   "metadata": {},
   "outputs": [
    {
     "name": "stderr",
     "output_type": "stream",
     "text": [
      "\n",
      "----------------------------------------------------------------------\n",
      "Ran 0 tests in 0.000s\n",
      "\n",
      "OK\n"
     ]
    },
    {
     "data": {
      "text/plain": [
       "<unittest.main.TestProgram at 0x22f1685f7f0>"
      ]
     },
     "execution_count": 33,
     "metadata": {},
     "output_type": "execute_result"
    }
   ],
   "source": [
    "\n",
    "import unittest\n",
    "class test(unittest.TestCase):               # TestCase class present in the unittest module\n",
    "\n",
    "    def SetUp(self):                                        # fix method  name\n",
    "        print(\"SetUp Method Execution...\")\n",
    "\n",
    "    def Test_method1(self):                          # method name not fixed\n",
    "        print(\"Test method execution...\")\n",
    "\n",
    "    def tearDown(self):                                    # fix method name\n",
    "        print(\"tearDown method execution...\")        # tearDown -->  after complete , we clean the environment\n",
    "\n",
    "unittest.main(argv=['first-arg-is-ignored'], exit=False)\n",
    "\n"
   ]
  },
  {
   "cell_type": "code",
   "execution_count": null,
   "id": "d0bfdc27",
   "metadata": {},
   "outputs": [],
   "source": []
  },
  {
   "cell_type": "code",
   "execution_count": 20,
   "id": "06017323",
   "metadata": {},
   "outputs": [
    {
     "name": "stderr",
     "output_type": "stream",
     "text": [
      "\n",
      "----------------------------------------------------------------------\n",
      "Ran 0 tests in 0.000s\n",
      "\n",
      "OK\n"
     ]
    },
    {
     "data": {
      "text/plain": [
       "<unittest.main.TestProgram at 0x22f16825d90>"
      ]
     },
     "execution_count": 20,
     "metadata": {},
     "output_type": "execute_result"
    }
   ],
   "source": [
    "\n",
    "\n",
    "import unittest\n",
    "class test(unittest.TestCase):\n",
    "    def SetUp(self):\n",
    "        print(\"SetUp Method Execution...\")\n",
    "\n",
    "    def Test_method1(self):\n",
    "        print(\"Test method execution...\")\n",
    "        print(10/0)\n",
    "\n",
    "\n",
    "    def tearDown(self):\n",
    "        print(\"tearDown method execution...\")\n",
    "\n",
    "unittest.main(argv=['first-arg-is-ignored'], exit=False)\n"
   ]
  },
  {
   "cell_type": "code",
   "execution_count": null,
   "id": "511644a3",
   "metadata": {},
   "outputs": [],
   "source": []
  },
  {
   "cell_type": "code",
   "execution_count": 35,
   "id": "76bf29f5",
   "metadata": {},
   "outputs": [
    {
     "name": "stderr",
     "output_type": "stream",
     "text": [
      "\n",
      "----------------------------------------------------------------------\n",
      "Ran 0 tests in 0.000s\n",
      "\n",
      "OK\n"
     ]
    },
    {
     "data": {
      "text/plain": [
       "<unittest.main.TestProgram at 0x22f1687cbb0>"
      ]
     },
     "execution_count": 35,
     "metadata": {},
     "output_type": "execute_result"
    }
   ],
   "source": [
    "\n",
    "\n",
    "import unittest\n",
    "class test(unittest.TestCase):\n",
    "    def SetUp(self):\n",
    "        print(\"SetUp Method Execution...\")\n",
    "\n",
    "    def Test_method1(self):\n",
    "        print(\"Test method execution...\")\n",
    "    def Test_method2(self):\n",
    "        print(\"Test method2 Execution...\")\n",
    "\n",
    "    def tearDown(self):\n",
    "        print(\"tearDown method execution...\")\n",
    "\n",
    "unittest.main(argv=['first-arg-is-ignored'], exit=False)\n",
    "\n",
    "# setup()--->  test_method1()-->  tearDown()    will be executed\n",
    "# setup()--->  test_method2()-->  tearDown()    will be executed\n",
    "\n",
    "# for every test method a separate setup  or tearDown method will be executed\n",
    "#-----------------------------------------------------------------------------\n",
    "\n"
   ]
  },
  {
   "cell_type": "code",
   "execution_count": null,
   "id": "88ab19c1",
   "metadata": {},
   "outputs": [],
   "source": []
  },
  {
   "cell_type": "code",
   "execution_count": 27,
   "id": "c3553ae6",
   "metadata": {},
   "outputs": [
    {
     "name": "stderr",
     "output_type": "stream",
     "text": [
      ".."
     ]
    },
    {
     "name": "stdout",
     "output_type": "stream",
     "text": [
      "SetupClass method execution...\n",
      "SetUp Method Execution...\n",
      "Test method1 execution...\n",
      "tearDown method execution...\n",
      "SetUp Method Execution...\n",
      "Test method2 Execution...\n",
      "tearDown method execution...\n",
      "tearDownClass method executed...\n"
     ]
    },
    {
     "name": "stderr",
     "output_type": "stream",
     "text": [
      "\n",
      "----------------------------------------------------------------------\n",
      "Ran 2 tests in 0.002s\n",
      "\n",
      "OK\n"
     ]
    },
    {
     "data": {
      "text/plain": [
       "<unittest.main.TestProgram at 0x22f16841f10>"
      ]
     },
     "execution_count": 27,
     "metadata": {},
     "output_type": "execute_result"
    }
   ],
   "source": [
    "# SetUpClass method  execute only once\"\"\n",
    "# tearDownClass method execute only once\n",
    "\n",
    "import unittest\n",
    "class test(unittest.TestCase):\n",
    "\n",
    "    @classmethod\n",
    "    def setUpClass(cls):\n",
    "        print(\"SetupClass method execution...\")\n",
    "\n",
    "    def setUp(self):\n",
    "        print(\"SetUp Method Execution...\")\n",
    "\n",
    "    def testmethod1(self):\n",
    "        print(\"Test method1 execution...\")\n",
    "    def testmethod2(self):\n",
    "        print(\"Test method2 Execution...\")\n",
    "\n",
    "    def tearDown(self):\n",
    "        print(\"tearDown method execution...\")\n",
    "\n",
    "    @classmethod\n",
    "    def tearDownClass(cls):\n",
    "        print(\"tearDownClass method executed...\")\n",
    "        \n",
    "unittest.main(argv=['first-arg-is-ignored'], exit=False)\n"
   ]
  },
  {
   "cell_type": "code",
   "execution_count": null,
   "id": "797b6e5a",
   "metadata": {},
   "outputs": [],
   "source": []
  }
 ],
 "metadata": {
  "kernelspec": {
   "display_name": "Python 3 (ipykernel)",
   "language": "python",
   "name": "python3"
  },
  "language_info": {
   "codemirror_mode": {
    "name": "ipython",
    "version": 3
   },
   "file_extension": ".py",
   "mimetype": "text/x-python",
   "name": "python",
   "nbconvert_exporter": "python",
   "pygments_lexer": "ipython3",
   "version": "3.9.7"
  }
 },
 "nbformat": 4,
 "nbformat_minor": 5
}
