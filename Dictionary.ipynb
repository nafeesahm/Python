{
 "cells": [
  {
   "cell_type": "code",
   "execution_count": 6,
   "id": "b99f9958",
   "metadata": {},
   "outputs": [],
   "source": [
    "l = [(100, 'A') , (200 , 'B') , (300 , 'C')]\n"
   ]
  },
  {
   "cell_type": "code",
   "execution_count": 7,
   "id": "8c93c9cd",
   "metadata": {},
   "outputs": [],
   "source": [
    "d = dict(l)"
   ]
  },
  {
   "cell_type": "code",
   "execution_count": 8,
   "id": "7f4cb567",
   "metadata": {},
   "outputs": [
    {
     "name": "stdout",
     "output_type": "stream",
     "text": [
      "{100: 'A', 200: 'B', 300: 'C'}\n"
     ]
    }
   ],
   "source": [
    "print(d)"
   ]
  },
  {
   "cell_type": "code",
   "execution_count": 9,
   "id": "fea782cb",
   "metadata": {},
   "outputs": [
    {
     "name": "stdout",
     "output_type": "stream",
     "text": [
      "<class 'dict'>\n"
     ]
    }
   ],
   "source": [
    "print(type(d))"
   ]
  },
  {
   "cell_type": "code",
   "execution_count": 10,
   "id": "34906eca",
   "metadata": {},
   "outputs": [],
   "source": [
    "# how to access data from dictionary\n",
    "d = {100: 'nafees', 200: 'sheesh' , 300:'anis'}\n"
   ]
  },
  {
   "cell_type": "code",
   "execution_count": 11,
   "id": "5ba038d5",
   "metadata": {},
   "outputs": [
    {
     "data": {
      "text/plain": [
       "{100: 'nafees', 200: 'sheesh', 300: 'anis'}"
      ]
     },
     "execution_count": 11,
     "metadata": {},
     "output_type": "execute_result"
    }
   ],
   "source": [
    "d"
   ]
  },
  {
   "cell_type": "code",
   "execution_count": 12,
   "id": "0c098908",
   "metadata": {},
   "outputs": [
    {
     "data": {
      "text/plain": [
       "'nafees'"
      ]
     },
     "execution_count": 12,
     "metadata": {},
     "output_type": "execute_result"
    }
   ],
   "source": [
    "d[100]"
   ]
  },
  {
   "cell_type": "code",
   "execution_count": 13,
   "id": "cff3dc05",
   "metadata": {},
   "outputs": [
    {
     "name": "stdout",
     "output_type": "stream",
     "text": [
      "anis\n"
     ]
    }
   ],
   "source": [
    "print(d[300])"
   ]
  },
  {
   "cell_type": "code",
   "execution_count": null,
   "id": "1164ca38",
   "metadata": {},
   "outputs": [],
   "source": []
  },
  {
   "cell_type": "code",
   "execution_count": 4,
   "id": "5abba44b",
   "metadata": {},
   "outputs": [
    {
     "name": "stdout",
     "output_type": "stream",
     "text": [
      "enter key to find value : 600\n",
      "the corresponding value is not avilabale\n"
     ]
    }
   ],
   "source": [
    "d = {100: 'nafees' , 200: 'ahmad', 300: 'sheesh'}\n",
    "key = eval(input(\"enter key to find value : \"))\n",
    "if key in d :\n",
    "    print('the corresponding value is: ', d[key])\n",
    "else: \n",
    "    print('the corresponding value is not avilabale')"
   ]
  },
  {
   "cell_type": "code",
   "execution_count": 5,
   "id": "a221abe3",
   "metadata": {},
   "outputs": [
    {
     "name": "stdout",
     "output_type": "stream",
     "text": [
      "{100: 'sheesh', 200: 'ahmad'}\n",
      "{100: 'sheesh', 200: 'sunny'}\n"
     ]
    }
   ],
   "source": [
    "d = {100:'nafees', 200:'ahmad'}\n",
    "d[100]= 'sheesh'\n",
    "print(d)\n",
    "\n",
    "d[200] = 'sunny'\n",
    "print(d)\n"
   ]
  },
  {
   "cell_type": "code",
   "execution_count": 47,
   "id": "a1198785",
   "metadata": {},
   "outputs": [
    {
     "name": "stdout",
     "output_type": "stream",
     "text": [
      "200 : sheesh\n",
      "200 : sunny\n"
     ]
    }
   ],
   "source": [
    "for key,value in d.items():\n",
    "    print(x , \":\" ,value)"
   ]
  },
  {
   "cell_type": "markdown",
   "id": "b1620c07",
   "metadata": {},
   "source": [
    "# write a program to enter name and % Marks in the dictionary  and display information on the screen\n"
   ]
  },
  {
   "cell_type": "code",
   "execution_count": 6,
   "id": "e155ef56",
   "metadata": {},
   "outputs": [
    {
     "name": "stdout",
     "output_type": "stream",
     "text": [
      "Enter number of student : 2\n",
      "Enter Student Name : vrsa\n",
      "Enter % of Marks of student : 11\n",
      "Enter Student Name : kali\n",
      "Enter % of Marks of student : 55\n",
      "\n",
      "Name of Student \t\t  % of marks\n",
      "----------------------------------------------\n",
      "\t vrsa \t\t 11\n",
      "\t kali \t\t 55\n"
     ]
    }
   ],
   "source": [
    "dic= {}             # empty dictionary\n",
    "n = int(input(\"Enter number of student : \"))\n",
    "i=1\n",
    "while i<=n:\n",
    "    name = input(\"Enter Student Name : \")\n",
    "    marks = input(\"Enter % of Marks of student : \")\n",
    "    dic[name] = marks\n",
    "    i= i+1\n",
    "print()\n",
    "print(\"Name of Student \\t\\t  % of marks\") \n",
    "print(\"----------------------------------------------\")\n",
    "for x in dic:\n",
    "    print(\"\\t\", x ,\"\\t\\t\", dic[x])"
   ]
  },
  {
   "cell_type": "markdown",
   "id": "e8ea5173",
   "metadata": {},
   "source": [
    "# how to update dictionary"
   ]
  },
  {
   "cell_type": "code",
   "execution_count": 7,
   "id": "1d02cfab",
   "metadata": {},
   "outputs": [],
   "source": [
    "d = {100: \"nafees\", 200: \"ravi\" , 300: \"shiva\"}\n"
   ]
  },
  {
   "cell_type": "code",
   "execution_count": 8,
   "id": "bdc07e38",
   "metadata": {},
   "outputs": [
    {
     "name": "stdout",
     "output_type": "stream",
     "text": [
      "{100: 'nafees', 200: 'ravi', 300: 'shiva'}\n"
     ]
    }
   ],
   "source": [
    "print(d)"
   ]
  },
  {
   "cell_type": "code",
   "execution_count": 9,
   "id": "11aea347",
   "metadata": {},
   "outputs": [
    {
     "name": "stdout",
     "output_type": "stream",
     "text": [
      "{100: 'nafees', 200: 'ravi', 300: 'shiva', 400: 'faiz'}\n"
     ]
    }
   ],
   "source": [
    "d[400] = \"faiz\"\n",
    "print(d)"
   ]
  },
  {
   "cell_type": "code",
   "execution_count": 10,
   "id": "7b1966c1",
   "metadata": {},
   "outputs": [
    {
     "name": "stdout",
     "output_type": "stream",
     "text": [
      "{100: 'ahmad', 200: 'ravi', 300: 'shiva', 400: 'faiz'}\n"
     ]
    }
   ],
   "source": [
    "d[100]  =  \"ahmad\"\n",
    "print(d)"
   ]
  },
  {
   "cell_type": "markdown",
   "id": "f6c54aa0",
   "metadata": {},
   "source": [
    "# How to delete element from dictionary"
   ]
  },
  {
   "cell_type": "markdown",
   "id": "44add4f8",
   "metadata": {},
   "source": [
    "# del d[key]"
   ]
  },
  {
   "cell_type": "code",
   "execution_count": 70,
   "id": "e5243408",
   "metadata": {},
   "outputs": [
    {
     "name": "stdout",
     "output_type": "stream",
     "text": [
      "{100: 'nafees', 200: 'ahmad', 300: 'nida'}\n"
     ]
    }
   ],
   "source": [
    "d = {100 : 'nafees' , 200 : 'ahmad' , 300: 'nida'}\n",
    "print(d)"
   ]
  },
  {
   "cell_type": "code",
   "execution_count": 71,
   "id": "6f9738c4",
   "metadata": {},
   "outputs": [],
   "source": [
    "del d[100]"
   ]
  },
  {
   "cell_type": "code",
   "execution_count": 74,
   "id": "d74580a6",
   "metadata": {},
   "outputs": [
    {
     "name": "stdout",
     "output_type": "stream",
     "text": [
      "{200: 'ahmad', 300: 'nida'}\n"
     ]
    }
   ],
   "source": [
    "print(d)"
   ]
  },
  {
   "cell_type": "code",
   "execution_count": 75,
   "id": "39d50949",
   "metadata": {},
   "outputs": [
    {
     "name": "stdout",
     "output_type": "stream",
     "text": [
      "{300: 'nida'}\n"
     ]
    }
   ],
   "source": [
    "del d[200]\n",
    "print(d)"
   ]
  },
  {
   "cell_type": "code",
   "execution_count": 76,
   "id": "bc1a8da3",
   "metadata": {},
   "outputs": [
    {
     "name": "stdout",
     "output_type": "stream",
     "text": [
      "{}\n"
     ]
    }
   ],
   "source": [
    "del d[300]\n",
    "print(d)"
   ]
  },
  {
   "cell_type": "code",
   "execution_count": 77,
   "id": "8ee01472",
   "metadata": {},
   "outputs": [
    {
     "data": {
      "text/plain": [
       "{}"
      ]
     },
     "execution_count": 77,
     "metadata": {},
     "output_type": "execute_result"
    }
   ],
   "source": [
    "d"
   ]
  },
  {
   "cell_type": "markdown",
   "id": "5fb70609",
   "metadata": {},
   "source": [
    "# d.clear()"
   ]
  },
  {
   "cell_type": "code",
   "execution_count": 83,
   "id": "e1019fe4",
   "metadata": {},
   "outputs": [],
   "source": [
    "d = {100: \"nafees\", 200: \"ravi\" , 300: \"shiva\"}"
   ]
  },
  {
   "cell_type": "code",
   "execution_count": 84,
   "id": "d5b2ad39",
   "metadata": {},
   "outputs": [
    {
     "name": "stdout",
     "output_type": "stream",
     "text": [
      "{100: 'nafees', 200: 'ravi', 300: 'shiva'}\n"
     ]
    }
   ],
   "source": [
    "print(d)"
   ]
  },
  {
   "cell_type": "code",
   "execution_count": 85,
   "id": "5bbef431",
   "metadata": {},
   "outputs": [
    {
     "data": {
      "text/plain": [
       "{100: 'nafees', 200: 'ravi', 300: 'shiva'}"
      ]
     },
     "execution_count": 85,
     "metadata": {},
     "output_type": "execute_result"
    }
   ],
   "source": [
    "d"
   ]
  },
  {
   "cell_type": "code",
   "execution_count": 86,
   "id": "58ce20ee",
   "metadata": {},
   "outputs": [
    {
     "name": "stdout",
     "output_type": "stream",
     "text": [
      "{}\n"
     ]
    }
   ],
   "source": [
    "d.clear()\n",
    "print(d)"
   ]
  },
  {
   "cell_type": "code",
   "execution_count": null,
   "id": "8bb9ece7",
   "metadata": {},
   "outputs": [],
   "source": []
  },
  {
   "cell_type": "markdown",
   "id": "731fe2bc",
   "metadata": {},
   "source": [
    "# to delete total dictionary"
   ]
  },
  {
   "cell_type": "code",
   "execution_count": 11,
   "id": "8444ce85",
   "metadata": {},
   "outputs": [],
   "source": [
    "# we can not access dictionary"
   ]
  },
  {
   "cell_type": "code",
   "execution_count": 12,
   "id": "87de5fc6",
   "metadata": {},
   "outputs": [],
   "source": [
    "d = {100: \"nafees\", 200: \"ravi\" , 300: \"shiva\"}"
   ]
  },
  {
   "cell_type": "code",
   "execution_count": 13,
   "id": "e5b7005a",
   "metadata": {},
   "outputs": [
    {
     "name": "stdout",
     "output_type": "stream",
     "text": [
      "{100: 'nafees', 200: 'ravi', 300: 'shiva'}\n"
     ]
    }
   ],
   "source": [
    "print(d)"
   ]
  },
  {
   "cell_type": "code",
   "execution_count": 14,
   "id": "174b9b79",
   "metadata": {},
   "outputs": [],
   "source": [
    "del d"
   ]
  },
  {
   "cell_type": "code",
   "execution_count": 15,
   "id": "6334b918",
   "metadata": {},
   "outputs": [
    {
     "ename": "NameError",
     "evalue": "name 'd' is not defined",
     "output_type": "error",
     "traceback": [
      "\u001b[1;31m---------------------------------------------------------------------------\u001b[0m",
      "\u001b[1;31mNameError\u001b[0m                                 Traceback (most recent call last)",
      "\u001b[1;32mC:\\Users\\NAFEES~1\\AppData\\Local\\Temp/ipykernel_5308/1152398069.py\u001b[0m in \u001b[0;36m<module>\u001b[1;34m\u001b[0m\n\u001b[1;32m----> 1\u001b[1;33m \u001b[0mprint\u001b[0m\u001b[1;33m(\u001b[0m\u001b[0md\u001b[0m\u001b[1;33m)\u001b[0m\u001b[1;33m\u001b[0m\u001b[1;33m\u001b[0m\u001b[0m\n\u001b[0m",
      "\u001b[1;31mNameError\u001b[0m: name 'd' is not defined"
     ]
    }
   ],
   "source": [
    "print(d)"
   ]
  },
  {
   "cell_type": "code",
   "execution_count": null,
   "id": "b3274a96",
   "metadata": {},
   "outputs": [],
   "source": []
  },
  {
   "cell_type": "markdown",
   "id": "fd0ca7e3",
   "metadata": {},
   "source": [
    "# Important function of dictionary"
   ]
  },
  {
   "cell_type": "code",
   "execution_count": 92,
   "id": "b7db7b50",
   "metadata": {},
   "outputs": [],
   "source": [
    "d = {}"
   ]
  },
  {
   "cell_type": "code",
   "execution_count": 93,
   "id": "23e5f086",
   "metadata": {},
   "outputs": [
    {
     "data": {
      "text/plain": [
       "{}"
      ]
     },
     "execution_count": 93,
     "metadata": {},
     "output_type": "execute_result"
    }
   ],
   "source": [
    "d"
   ]
  },
  {
   "cell_type": "code",
   "execution_count": 94,
   "id": "1f14aeb4",
   "metadata": {},
   "outputs": [
    {
     "data": {
      "text/plain": [
       "dict"
      ]
     },
     "execution_count": 94,
     "metadata": {},
     "output_type": "execute_result"
    }
   ],
   "source": [
    "type(d)"
   ]
  },
  {
   "cell_type": "markdown",
   "id": "8b168987",
   "metadata": {},
   "source": [
    "# dict()"
   ]
  },
  {
   "cell_type": "code",
   "execution_count": 96,
   "id": "71f2078b",
   "metadata": {},
   "outputs": [],
   "source": [
    "\n",
    "     # to create a empty dictionary\n",
    "    "
   ]
  },
  {
   "cell_type": "code",
   "execution_count": 97,
   "id": "84586c44",
   "metadata": {},
   "outputs": [],
   "source": [
    "d = dict()"
   ]
  },
  {
   "cell_type": "code",
   "execution_count": 98,
   "id": "9dfc8c1a",
   "metadata": {},
   "outputs": [
    {
     "name": "stdout",
     "output_type": "stream",
     "text": [
      "{}\n"
     ]
    }
   ],
   "source": [
    "print(d)"
   ]
  },
  {
   "cell_type": "code",
   "execution_count": 99,
   "id": "dab818e1",
   "metadata": {},
   "outputs": [
    {
     "name": "stdout",
     "output_type": "stream",
     "text": [
      "<class 'dict'>\n"
     ]
    }
   ],
   "source": [
    "print(type(d))"
   ]
  },
  {
   "cell_type": "code",
   "execution_count": 17,
   "id": "46a5fe29",
   "metadata": {},
   "outputs": [],
   "source": [
    "d = dict({100: \"nafees\", 200: \"ravi\" , 300: \"shiva\"})"
   ]
  },
  {
   "cell_type": "code",
   "execution_count": 18,
   "id": "af59e371",
   "metadata": {},
   "outputs": [
    {
     "name": "stdout",
     "output_type": "stream",
     "text": [
      "{100: 'nafees', 200: 'ravi', 300: 'shiva'}\n"
     ]
    }
   ],
   "source": [
    "print(d)"
   ]
  },
  {
   "cell_type": "markdown",
   "id": "c56609c2",
   "metadata": {},
   "source": [
    "# len()"
   ]
  },
  {
   "cell_type": "code",
   "execution_count": 19,
   "id": "ea80d45e",
   "metadata": {},
   "outputs": [],
   "source": [
    "# retuen the number of item in the dictionary"
   ]
  },
  {
   "cell_type": "code",
   "execution_count": 20,
   "id": "200568c8",
   "metadata": {},
   "outputs": [
    {
     "data": {
      "text/plain": [
       "{100: 'nafees', 200: 'ravi', 300: 'shiva'}"
      ]
     },
     "execution_count": 20,
     "metadata": {},
     "output_type": "execute_result"
    }
   ],
   "source": [
    "d"
   ]
  },
  {
   "cell_type": "code",
   "execution_count": 21,
   "id": "83fde507",
   "metadata": {},
   "outputs": [
    {
     "data": {
      "text/plain": [
       "3"
      ]
     },
     "execution_count": 21,
     "metadata": {},
     "output_type": "execute_result"
    }
   ],
   "source": [
    "len(d)"
   ]
  },
  {
   "cell_type": "markdown",
   "id": "b8bf26b5",
   "metadata": {},
   "source": [
    "# clear()"
   ]
  },
  {
   "cell_type": "code",
   "execution_count": 108,
   "id": "89bc9a68",
   "metadata": {},
   "outputs": [
    {
     "data": {
      "text/plain": [
       "{100: 'nafees', 200: 'ravi', 300: 'shiva'}"
      ]
     },
     "execution_count": 108,
     "metadata": {},
     "output_type": "execute_result"
    }
   ],
   "source": [
    "d\n"
   ]
  },
  {
   "cell_type": "code",
   "execution_count": 109,
   "id": "cc1ecc80",
   "metadata": {},
   "outputs": [],
   "source": [
    "d.clear()"
   ]
  },
  {
   "cell_type": "code",
   "execution_count": 121,
   "id": "724ca87c",
   "metadata": {},
   "outputs": [
    {
     "data": {
      "text/plain": [
       "{}"
      ]
     },
     "execution_count": 121,
     "metadata": {},
     "output_type": "execute_result"
    }
   ],
   "source": [
    "d"
   ]
  },
  {
   "cell_type": "code",
   "execution_count": null,
   "id": "6e12a949",
   "metadata": {},
   "outputs": [],
   "source": []
  },
  {
   "cell_type": "code",
   "execution_count": 221,
   "id": "217ff5a3",
   "metadata": {},
   "outputs": [],
   "source": [
    "dic = {100: 'nafees', 200: 'ravi', 300: 'shiva'}"
   ]
  },
  {
   "cell_type": "code",
   "execution_count": 222,
   "id": "8e0eb0bf",
   "metadata": {},
   "outputs": [
    {
     "data": {
      "text/plain": [
       "{100: 'nafees', 200: 'ravi', 300: 'shiva'}"
      ]
     },
     "execution_count": 222,
     "metadata": {},
     "output_type": "execute_result"
    }
   ],
   "source": [
    "dic"
   ]
  },
  {
   "cell_type": "markdown",
   "id": "916f4eca",
   "metadata": {},
   "source": [
    "# get()"
   ]
  },
  {
   "cell_type": "code",
   "execution_count": 223,
   "id": "6626ecb5",
   "metadata": {},
   "outputs": [
    {
     "data": {
      "text/plain": [
       "{100: 'nafees', 200: 'ravi', 300: 'shiva'}"
      ]
     },
     "execution_count": 223,
     "metadata": {},
     "output_type": "execute_result"
    }
   ],
   "source": [
    "dic"
   ]
  },
  {
   "cell_type": "code",
   "execution_count": 224,
   "id": "3597fe56",
   "metadata": {},
   "outputs": [
    {
     "data": {
      "text/plain": [
       "'nafees'"
      ]
     },
     "execution_count": 224,
     "metadata": {},
     "output_type": "execute_result"
    }
   ],
   "source": [
    "dic.get(100)"
   ]
  },
  {
   "cell_type": "code",
   "execution_count": 225,
   "id": "bfb75792",
   "metadata": {},
   "outputs": [
    {
     "data": {
      "text/plain": [
       "'ravi'"
      ]
     },
     "execution_count": 225,
     "metadata": {},
     "output_type": "execute_result"
    }
   ],
   "source": [
    "dic.get(200)"
   ]
  },
  {
   "cell_type": "code",
   "execution_count": 226,
   "id": "68266c90",
   "metadata": {},
   "outputs": [
    {
     "name": "stdout",
     "output_type": "stream",
     "text": [
      "shiva\n"
     ]
    }
   ],
   "source": [
    "print(dic.get(300))"
   ]
  },
  {
   "cell_type": "code",
   "execution_count": 29,
   "id": "55373266",
   "metadata": {},
   "outputs": [
    {
     "name": "stdout",
     "output_type": "stream",
     "text": [
      "None\n"
     ]
    }
   ],
   "source": [
    "print(dic.get(500))  # if key is not available then return None"
   ]
  },
  {
   "cell_type": "code",
   "execution_count": 229,
   "id": "2ca471ba",
   "metadata": {},
   "outputs": [
    {
     "name": "stdout",
     "output_type": "stream",
     "text": [
      "nafees\n"
     ]
    }
   ],
   "source": [
    "print(dic.get(100, 'guest'))"
   ]
  },
  {
   "cell_type": "code",
   "execution_count": 231,
   "id": "26b4eb79",
   "metadata": {},
   "outputs": [
    {
     "name": "stdout",
     "output_type": "stream",
     "text": [
      " i am hacker\n"
     ]
    }
   ],
   "source": [
    "# if key is not available then default value return which we given\n",
    "print(dic.get(500 , \" i am hacker\"))"
   ]
  },
  {
   "cell_type": "code",
   "execution_count": null,
   "id": "b5493f9f",
   "metadata": {},
   "outputs": [],
   "source": []
  },
  {
   "cell_type": "code",
   "execution_count": 135,
   "id": "f5d591c2",
   "metadata": {},
   "outputs": [
    {
     "name": "stdout",
     "output_type": "stream",
     "text": [
      "python\n"
     ]
    }
   ],
   "source": [
    "# if key is avilable then return corresponding value, \n",
    "# otherwise return default  values\n",
    "print(dic.get(500 , \"python\"))  "
   ]
  },
  {
   "cell_type": "code",
   "execution_count": 136,
   "id": "073b23b8",
   "metadata": {},
   "outputs": [
    {
     "name": "stdout",
     "output_type": "stream",
     "text": [
      "{100: 'nafees', 200: 'ravi', 300: 'shiva'}\n"
     ]
    }
   ],
   "source": [
    "print(dic)"
   ]
  },
  {
   "cell_type": "markdown",
   "id": "7db3f271",
   "metadata": {},
   "source": [
    "# pop()"
   ]
  },
  {
   "cell_type": "code",
   "execution_count": 137,
   "id": "cc0c50b7",
   "metadata": {},
   "outputs": [
    {
     "data": {
      "text/plain": [
       "{100: 'nafees', 200: 'ravi', 300: 'shiva'}"
      ]
     },
     "execution_count": 137,
     "metadata": {},
     "output_type": "execute_result"
    }
   ],
   "source": [
    "dic"
   ]
  },
  {
   "cell_type": "code",
   "execution_count": 138,
   "id": "7024c17e",
   "metadata": {},
   "outputs": [
    {
     "data": {
      "text/plain": [
       "'nafees'"
      ]
     },
     "execution_count": 138,
     "metadata": {},
     "output_type": "execute_result"
    }
   ],
   "source": [
    "dic.pop(100)     # return deleted value"
   ]
  },
  {
   "cell_type": "code",
   "execution_count": 139,
   "id": "da72ad17",
   "metadata": {},
   "outputs": [
    {
     "name": "stdout",
     "output_type": "stream",
     "text": [
      "{200: 'ravi', 300: 'shiva'}\n"
     ]
    }
   ],
   "source": [
    "print(dic)"
   ]
  },
  {
   "cell_type": "code",
   "execution_count": null,
   "id": "0eb3ae12",
   "metadata": {},
   "outputs": [],
   "source": []
  },
  {
   "cell_type": "markdown",
   "id": "f7a25023",
   "metadata": {},
   "source": [
    "# popitem()"
   ]
  },
  {
   "cell_type": "code",
   "execution_count": 147,
   "id": "802c511a",
   "metadata": {},
   "outputs": [],
   "source": [
    "# it removes an arbitary item (key-value) from the dictionary and return it"
   ]
  },
  {
   "cell_type": "code",
   "execution_count": 148,
   "id": "303ae38a",
   "metadata": {},
   "outputs": [],
   "source": [
    "d = {100: 'nafees', 200: 'ravi', 300: 'shiva'}"
   ]
  },
  {
   "cell_type": "code",
   "execution_count": 149,
   "id": "a4660f88",
   "metadata": {},
   "outputs": [
    {
     "name": "stdout",
     "output_type": "stream",
     "text": [
      "{100: 'nafees', 200: 'ravi', 300: 'shiva'}\n"
     ]
    }
   ],
   "source": [
    "print(d)"
   ]
  },
  {
   "cell_type": "code",
   "execution_count": 150,
   "id": "aae794b5",
   "metadata": {},
   "outputs": [
    {
     "name": "stdout",
     "output_type": "stream",
     "text": [
      "(300, 'shiva')\n"
     ]
    }
   ],
   "source": [
    "print(d.popitem())"
   ]
  },
  {
   "cell_type": "code",
   "execution_count": 152,
   "id": "a8b6a824",
   "metadata": {},
   "outputs": [
    {
     "name": "stdout",
     "output_type": "stream",
     "text": [
      "{100: 'nafees', 200: 'ravi'}\n"
     ]
    }
   ],
   "source": [
    "print(d)"
   ]
  },
  {
   "cell_type": "code",
   "execution_count": 153,
   "id": "43d4d5df",
   "metadata": {},
   "outputs": [
    {
     "data": {
      "text/plain": [
       "(200, 'ravi')"
      ]
     },
     "execution_count": 153,
     "metadata": {},
     "output_type": "execute_result"
    }
   ],
   "source": [
    "d.popitem()"
   ]
  },
  {
   "cell_type": "code",
   "execution_count": 154,
   "id": "0420a4a9",
   "metadata": {},
   "outputs": [
    {
     "data": {
      "text/plain": [
       "{100: 'nafees'}"
      ]
     },
     "execution_count": 154,
     "metadata": {},
     "output_type": "execute_result"
    }
   ],
   "source": [
    " d"
   ]
  },
  {
   "cell_type": "code",
   "execution_count": 155,
   "id": "4207ffd0",
   "metadata": {},
   "outputs": [
    {
     "data": {
      "text/plain": [
       "(100, 'nafees')"
      ]
     },
     "execution_count": 155,
     "metadata": {},
     "output_type": "execute_result"
    }
   ],
   "source": [
    "d.popitem()"
   ]
  },
  {
   "cell_type": "code",
   "execution_count": 156,
   "id": "ef6f598f",
   "metadata": {},
   "outputs": [
    {
     "data": {
      "text/plain": [
       "{}"
      ]
     },
     "execution_count": 156,
     "metadata": {},
     "output_type": "execute_result"
    }
   ],
   "source": [
    "d"
   ]
  },
  {
   "cell_type": "code",
   "execution_count": null,
   "id": "ef6f7a6f",
   "metadata": {},
   "outputs": [],
   "source": []
  },
  {
   "cell_type": "code",
   "execution_count": 157,
   "id": "71feff5a",
   "metadata": {},
   "outputs": [],
   "source": [
    "dc = {100: 'nafees', 200: 'ravi', 300: 'shiva'}"
   ]
  },
  {
   "cell_type": "code",
   "execution_count": 158,
   "id": "1ab51161",
   "metadata": {},
   "outputs": [
    {
     "name": "stdout",
     "output_type": "stream",
     "text": [
      "{100: 'nafees', 200: 'ravi', 300: 'shiva'}\n"
     ]
    }
   ],
   "source": [
    "print(dc)"
   ]
  },
  {
   "cell_type": "code",
   "execution_count": 159,
   "id": "4a6af20c",
   "metadata": {},
   "outputs": [
    {
     "name": "stdout",
     "output_type": "stream",
     "text": [
      "(300, 'shiva')\n"
     ]
    }
   ],
   "source": [
    "print(dc.popitem())"
   ]
  },
  {
   "cell_type": "code",
   "execution_count": 160,
   "id": "6182f3c6",
   "metadata": {},
   "outputs": [
    {
     "data": {
      "text/plain": [
       "{100: 'nafees', 200: 'ravi'}"
      ]
     },
     "execution_count": 160,
     "metadata": {},
     "output_type": "execute_result"
    }
   ],
   "source": [
    "dc"
   ]
  },
  {
   "cell_type": "code",
   "execution_count": 161,
   "id": "5af799e2",
   "metadata": {},
   "outputs": [
    {
     "data": {
      "text/plain": [
       "(200, 'ravi')"
      ]
     },
     "execution_count": 161,
     "metadata": {},
     "output_type": "execute_result"
    }
   ],
   "source": [
    "dc.popitem()"
   ]
  },
  {
   "cell_type": "code",
   "execution_count": 162,
   "id": "240e8b04",
   "metadata": {},
   "outputs": [
    {
     "data": {
      "text/plain": [
       "{100: 'nafees'}"
      ]
     },
     "execution_count": 162,
     "metadata": {},
     "output_type": "execute_result"
    }
   ],
   "source": [
    "dc"
   ]
  },
  {
   "cell_type": "code",
   "execution_count": 163,
   "id": "1155af07",
   "metadata": {},
   "outputs": [
    {
     "data": {
      "text/plain": [
       "(100, 'nafees')"
      ]
     },
     "execution_count": 163,
     "metadata": {},
     "output_type": "execute_result"
    }
   ],
   "source": [
    "dc.popitem()"
   ]
  },
  {
   "cell_type": "code",
   "execution_count": 164,
   "id": "2c404d57",
   "metadata": {},
   "outputs": [
    {
     "data": {
      "text/plain": [
       "{}"
      ]
     },
     "execution_count": 164,
     "metadata": {},
     "output_type": "execute_result"
    }
   ],
   "source": [
    "dc"
   ]
  },
  {
   "cell_type": "code",
   "execution_count": null,
   "id": "df9fee60",
   "metadata": {},
   "outputs": [],
   "source": []
  },
  {
   "cell_type": "markdown",
   "id": "5280f2ca",
   "metadata": {},
   "source": [
    "# key()"
   ]
  },
  {
   "cell_type": "code",
   "execution_count": 165,
   "id": "87d7dd10",
   "metadata": {},
   "outputs": [],
   "source": [
    "d = {100: 'nafees', 200: 'ravi', 300: 'shiva'}"
   ]
  },
  {
   "cell_type": "code",
   "execution_count": 166,
   "id": "a7ff5ff1",
   "metadata": {},
   "outputs": [
    {
     "name": "stdout",
     "output_type": "stream",
     "text": [
      "{100: 'nafees', 200: 'ravi', 300: 'shiva'}\n"
     ]
    }
   ],
   "source": [
    "print(d)"
   ]
  },
  {
   "cell_type": "code",
   "execution_count": 169,
   "id": "fc496091",
   "metadata": {},
   "outputs": [
    {
     "name": "stdout",
     "output_type": "stream",
     "text": [
      "dict_keys([100, 200, 300])\n"
     ]
    }
   ],
   "source": [
    "print(d.keys())"
   ]
  },
  {
   "cell_type": "code",
   "execution_count": 171,
   "id": "b30d6515",
   "metadata": {},
   "outputs": [],
   "source": [
    "k = d.keys()"
   ]
  },
  {
   "cell_type": "code",
   "execution_count": 178,
   "id": "14acc77e",
   "metadata": {},
   "outputs": [
    {
     "name": "stdout",
     "output_type": "stream",
     "text": [
      "100\n",
      "200\n",
      "300\n"
     ]
    }
   ],
   "source": [
    "for key in d.keys():\n",
    "    print(key)"
   ]
  },
  {
   "cell_type": "code",
   "execution_count": null,
   "id": "1353f46f",
   "metadata": {},
   "outputs": [],
   "source": []
  },
  {
   "cell_type": "markdown",
   "id": "4d0f88da",
   "metadata": {},
   "source": [
    "# values()"
   ]
  },
  {
   "cell_type": "code",
   "execution_count": 30,
   "id": "a950715f",
   "metadata": {},
   "outputs": [],
   "source": [
    "dict = {100: 'nafees', 200: 'ravi', 300: 'shiva'}"
   ]
  },
  {
   "cell_type": "code",
   "execution_count": 31,
   "id": "99bca2c2",
   "metadata": {},
   "outputs": [
    {
     "name": "stdout",
     "output_type": "stream",
     "text": [
      "{100: 'nafees', 200: 'ravi', 300: 'shiva'}\n"
     ]
    }
   ],
   "source": [
    "print(dict)"
   ]
  },
  {
   "cell_type": "code",
   "execution_count": 32,
   "id": "8e918d78",
   "metadata": {},
   "outputs": [
    {
     "name": "stdout",
     "output_type": "stream",
     "text": [
      "dict_values(['nafees', 'ravi', 'shiva'])\n"
     ]
    }
   ],
   "source": [
    "print(dict.values())"
   ]
  },
  {
   "cell_type": "code",
   "execution_count": 33,
   "id": "1238ac9c",
   "metadata": {},
   "outputs": [
    {
     "name": "stdout",
     "output_type": "stream",
     "text": [
      "nafees\n",
      "ravi\n",
      "shiva\n"
     ]
    }
   ],
   "source": [
    "for values in dict.values():\n",
    "    print(values)"
   ]
  },
  {
   "cell_type": "markdown",
   "id": "cdf10574",
   "metadata": {},
   "source": [
    "# items()"
   ]
  },
  {
   "cell_type": "code",
   "execution_count": 184,
   "id": "3c643973",
   "metadata": {},
   "outputs": [],
   "source": [
    "d = {100: 'nafees', 200: 'ravi', 300: 'shiva'}"
   ]
  },
  {
   "cell_type": "code",
   "execution_count": 185,
   "id": "0c10f7a6",
   "metadata": {},
   "outputs": [
    {
     "name": "stdout",
     "output_type": "stream",
     "text": [
      "{100: 'nafees', 200: 'ravi', 300: 'shiva'}\n"
     ]
    }
   ],
   "source": [
    "print(d)"
   ]
  },
  {
   "cell_type": "code",
   "execution_count": 195,
   "id": "732d0a6f",
   "metadata": {},
   "outputs": [
    {
     "name": "stdout",
     "output_type": "stream",
     "text": [
      "dict_items([(100, 'nafees'), (200, 'ravi'), (300, 'shiva')])\n"
     ]
    }
   ],
   "source": [
    "print(d.items())"
   ]
  },
  {
   "cell_type": "code",
   "execution_count": 199,
   "id": "1768ea8c",
   "metadata": {},
   "outputs": [
    {
     "name": "stdout",
     "output_type": "stream",
     "text": [
      "(100, 'nafees')\n",
      "(200, 'ravi')\n",
      "(300, 'shiva')\n"
     ]
    }
   ],
   "source": [
    "for i in d.items():\n",
    "    print(i)"
   ]
  },
  {
   "cell_type": "code",
   "execution_count": 202,
   "id": "832d1e3d",
   "metadata": {},
   "outputs": [
    {
     "name": "stdout",
     "output_type": "stream",
     "text": [
      "100 : nafees\n",
      "200 : ravi\n",
      "300 : shiva\n"
     ]
    }
   ],
   "source": [
    "for k in d.items():\n",
    "    print(k[0],\":\",k[1])"
   ]
  },
  {
   "cell_type": "code",
   "execution_count": 203,
   "id": "581c840a",
   "metadata": {},
   "outputs": [
    {
     "name": "stdout",
     "output_type": "stream",
     "text": [
      "100 : nafees\n",
      "200 : ravi\n",
      "300 : shiva\n"
     ]
    }
   ],
   "source": [
    "for key , value in d.items():\n",
    "    print(key, \":\", value)"
   ]
  },
  {
   "cell_type": "code",
   "execution_count": null,
   "id": "ca319aff",
   "metadata": {},
   "outputs": [],
   "source": []
  },
  {
   "cell_type": "markdown",
   "id": "ec08b39e",
   "metadata": {},
   "source": [
    "# copy()"
   ]
  },
  {
   "cell_type": "code",
   "execution_count": 232,
   "id": "3d0ee6c9",
   "metadata": {},
   "outputs": [],
   "source": [
    "d = {100: 'nafees', 200: 'ravi', 300: 'shiva'}"
   ]
  },
  {
   "cell_type": "code",
   "execution_count": 233,
   "id": "af7b0222",
   "metadata": {},
   "outputs": [
    {
     "name": "stdout",
     "output_type": "stream",
     "text": [
      "{100: 'nafees', 200: 'ravi', 300: 'shiva'}\n"
     ]
    }
   ],
   "source": [
    "print(d)"
   ]
  },
  {
   "cell_type": "code",
   "execution_count": 234,
   "id": "7d91379c",
   "metadata": {},
   "outputs": [
    {
     "name": "stdout",
     "output_type": "stream",
     "text": [
      "adderess of d :  1830291886208\n"
     ]
    }
   ],
   "source": [
    "print(\"adderess of d : \", id(d))"
   ]
  },
  {
   "cell_type": "code",
   "execution_count": null,
   "id": "62b123af",
   "metadata": {},
   "outputs": [],
   "source": []
  },
  {
   "cell_type": "code",
   "execution_count": 235,
   "id": "023f7455",
   "metadata": {},
   "outputs": [],
   "source": [
    "d1= d.copy()"
   ]
  },
  {
   "cell_type": "code",
   "execution_count": 236,
   "id": "0b7092e8",
   "metadata": {},
   "outputs": [
    {
     "data": {
      "text/plain": [
       "{100: 'nafees', 200: 'ravi', 300: 'shiva'}"
      ]
     },
     "execution_count": 236,
     "metadata": {},
     "output_type": "execute_result"
    }
   ],
   "source": [
    "d1"
   ]
  },
  {
   "cell_type": "code",
   "execution_count": 237,
   "id": "267bcee4",
   "metadata": {},
   "outputs": [
    {
     "name": "stdout",
     "output_type": "stream",
     "text": [
      "address of d1 :  1830291861120\n"
     ]
    }
   ],
   "source": [
    "print(\"address of d1 : \", id(d1))"
   ]
  },
  {
   "cell_type": "code",
   "execution_count": null,
   "id": "74892a38",
   "metadata": {},
   "outputs": [],
   "source": []
  },
  {
   "cell_type": "markdown",
   "id": "f7bfc1e7",
   "metadata": {},
   "source": [
    "# setdefault()"
   ]
  },
  {
   "cell_type": "code",
   "execution_count": 244,
   "id": "c7183203",
   "metadata": {},
   "outputs": [],
   "source": [
    "# if key is already available then function return corresponding value.\n",
    "# if the key is not available then the specified key-value will be added \n",
    "# as new item to the dictionary"
   ]
  },
  {
   "cell_type": "code",
   "execution_count": 238,
   "id": "035590b6",
   "metadata": {},
   "outputs": [
    {
     "data": {
      "text/plain": [
       "{100: 'nafees', 200: 'ravi', 300: 'shiva'}"
      ]
     },
     "execution_count": 238,
     "metadata": {},
     "output_type": "execute_result"
    }
   ],
   "source": [
    "d1"
   ]
  },
  {
   "cell_type": "code",
   "execution_count": 239,
   "id": "a75b2d36",
   "metadata": {},
   "outputs": [
    {
     "data": {
      "text/plain": [
       "'haadi'"
      ]
     },
     "execution_count": 239,
     "metadata": {},
     "output_type": "execute_result"
    }
   ],
   "source": [
    "d1.setdefault(400, \"haadi\")"
   ]
  },
  {
   "cell_type": "code",
   "execution_count": 240,
   "id": "89af8037",
   "metadata": {},
   "outputs": [
    {
     "name": "stdout",
     "output_type": "stream",
     "text": [
      "{100: 'nafees', 200: 'ravi', 300: 'shiva', 400: 'haadi'}\n"
     ]
    }
   ],
   "source": [
    "print(d1)"
   ]
  },
  {
   "cell_type": "code",
   "execution_count": 242,
   "id": "7ff27e1c",
   "metadata": {},
   "outputs": [
    {
     "data": {
      "text/plain": [
       "'nafees'"
      ]
     },
     "execution_count": 242,
     "metadata": {},
     "output_type": "execute_result"
    }
   ],
   "source": [
    "d1.setdefault(100, \"kali\")"
   ]
  },
  {
   "cell_type": "code",
   "execution_count": 245,
   "id": "40859ba0",
   "metadata": {},
   "outputs": [
    {
     "name": "stdout",
     "output_type": "stream",
     "text": [
      "{100: 'nafees', 200: 'ravi', 300: 'shiva', 400: 'haadi'}\n"
     ]
    }
   ],
   "source": [
    "print(d1)"
   ]
  },
  {
   "cell_type": "code",
   "execution_count": null,
   "id": "da34a772",
   "metadata": {},
   "outputs": [],
   "source": []
  },
  {
   "cell_type": "markdown",
   "id": "ad510efd",
   "metadata": {},
   "source": [
    "# update()"
   ]
  },
  {
   "cell_type": "code",
   "execution_count": 251,
   "id": "09e6b492",
   "metadata": {},
   "outputs": [],
   "source": [
    "d = {100: 'nafees', 200: 'ravi', 300: 'shiva'}"
   ]
  },
  {
   "cell_type": "code",
   "execution_count": 252,
   "id": "59247ae7",
   "metadata": {},
   "outputs": [
    {
     "name": "stdout",
     "output_type": "stream",
     "text": [
      "{100: 'nafees', 200: 'ravi', 300: 'shiva'}\n"
     ]
    }
   ],
   "source": [
    "print(d)"
   ]
  },
  {
   "cell_type": "code",
   "execution_count": null,
   "id": "af806777",
   "metadata": {},
   "outputs": [],
   "source": []
  },
  {
   "cell_type": "code",
   "execution_count": 255,
   "id": "7041c01c",
   "metadata": {},
   "outputs": [],
   "source": [
    "x = {1111 : 'kali' , 222 : 'charan'}"
   ]
  },
  {
   "cell_type": "code",
   "execution_count": 257,
   "id": "9972b4b5",
   "metadata": {},
   "outputs": [
    {
     "name": "stdout",
     "output_type": "stream",
     "text": [
      "{1111: 'kali', 222: 'charan'}\n"
     ]
    }
   ],
   "source": [
    "print(x)"
   ]
  },
  {
   "cell_type": "code",
   "execution_count": 261,
   "id": "8ba6bb52",
   "metadata": {},
   "outputs": [],
   "source": [
    "# all item present in the dictionary x will be added to dictionary d\n",
    "d.update(x)"
   ]
  },
  {
   "cell_type": "code",
   "execution_count": 262,
   "id": "5b8aa134",
   "metadata": {},
   "outputs": [
    {
     "name": "stdout",
     "output_type": "stream",
     "text": [
      "{100: 'nafees', 200: 'ravi', 300: 'shiva', 1111: 'kali', 222: 'charan'}\n"
     ]
    }
   ],
   "source": [
    "print(d)"
   ]
  },
  {
   "cell_type": "code",
   "execution_count": null,
   "id": "fdb3040f",
   "metadata": {},
   "outputs": [],
   "source": []
  },
  {
   "cell_type": "markdown",
   "id": "f5c3c4fa",
   "metadata": {},
   "source": [
    "# write a program to take dictionary from the keyboard and print the sum of value"
   ]
  },
  {
   "cell_type": "code",
   "execution_count": 35,
   "id": "0784d403",
   "metadata": {},
   "outputs": [
    {
     "name": "stdout",
     "output_type": "stream",
     "text": [
      "Enter Dictionary : {\"a\": 111, \"b\":333}\n",
      "sum :  444\n"
     ]
    }
   ],
   "source": [
    "\n",
    "d = eval(input(\"Enter Dictionary : \"))\n",
    "sum = sum(d.values())\n",
    "print(\"sum : \", sum)\n",
    "          "
   ]
  },
  {
   "cell_type": "code",
   "execution_count": null,
   "id": "118f942d",
   "metadata": {},
   "outputs": [],
   "source": [
    "\n",
    "d = eval(input(\"Enter Dictionary : \"))\n",
    "sum = sum(d.values())\n",
    "print(\"sum : \", sum)\n",
    "          "
   ]
  },
  {
   "cell_type": "code",
   "execution_count": null,
   "id": "bb00204a",
   "metadata": {},
   "outputs": [],
   "source": []
  },
  {
   "cell_type": "code",
   "execution_count": null,
   "id": "8fe70a02",
   "metadata": {},
   "outputs": [],
   "source": []
  },
  {
   "cell_type": "code",
   "execution_count": 7,
   "id": "35cdd3a2",
   "metadata": {},
   "outputs": [
    {
     "name": "stdout",
     "output_type": "stream",
     "text": [
      "{20, 40, 10, 30}\n"
     ]
    }
   ],
   "source": [
    "s1 = {10 , 20}           # set\n",
    "s2 = {30 , 40 , 10}\n",
    "# s3 = {s1+s2}              # in set we can't add like this\n",
    "# print(s3)\n",
    "\n",
    "s4 = {*s1 , *s2}\n",
    "print(s4)            # add both set  duplicate will remove"
   ]
  },
  {
   "cell_type": "code",
   "execution_count": 17,
   "id": "15971f13",
   "metadata": {},
   "outputs": [
    {
     "name": "stdout",
     "output_type": "stream",
     "text": [
      "{100: 'A', 200: 'B', 300: 'C', 400: 'D'}\n"
     ]
    }
   ],
   "source": [
    "s = {100: 'A', 200:'B'}\n",
    "s1 = {300:'C' , 400: 'D'}                    # dictionary\n",
    "\n",
    "# print(s+s1)               # in dictionary we can't add like this\n",
    "\n",
    "d = {**s , **s1}\n",
    "print(d)"
   ]
  },
  {
   "cell_type": "code",
   "execution_count": 20,
   "id": "ff11a2c3",
   "metadata": {},
   "outputs": [
    {
     "name": "stdout",
     "output_type": "stream",
     "text": [
      "(10, 20, 30)\n",
      "(40, 50, 60)\n"
     ]
    }
   ],
   "source": [
    "l1 = [(10,20,30) , (40,50,60)]\n",
    "print(l1[0])\n",
    "print(l1[1])"
   ]
  },
  {
   "cell_type": "code",
   "execution_count": 21,
   "id": "172ff283",
   "metadata": {},
   "outputs": [
    {
     "name": "stdout",
     "output_type": "stream",
     "text": [
      "20\n"
     ]
    }
   ],
   "source": [
    "print(l1[0][1])"
   ]
  },
  {
   "cell_type": "code",
   "execution_count": 22,
   "id": "df82da94",
   "metadata": {},
   "outputs": [
    {
     "name": "stdout",
     "output_type": "stream",
     "text": [
      "60\n"
     ]
    }
   ],
   "source": [
    "print(l1[1][2])"
   ]
  },
  {
   "cell_type": "code",
   "execution_count": null,
   "id": "fa65d3b9",
   "metadata": {},
   "outputs": [],
   "source": []
  },
  {
   "cell_type": "code",
   "execution_count": 28,
   "id": "5b4ee050",
   "metadata": {},
   "outputs": [
    {
     "name": "stdout",
     "output_type": "stream",
     "text": [
      "{'car': ('innova', 'honda', 'Maruti'), 'mobile': ('Samsung', 'iphone', 'Nokia')}\n"
     ]
    }
   ],
   "source": [
    "d = {\"car\": (\"innova\" , \"honda\" , \"Maruti\"),\n",
    "    \"mobile\": (\"Samsung\", \"iphone\", \"Nokia\")\n",
    "    }\n",
    "print(d)"
   ]
  },
  {
   "cell_type": "code",
   "execution_count": 30,
   "id": "9cbe567f",
   "metadata": {},
   "outputs": [
    {
     "name": "stdout",
     "output_type": "stream",
     "text": [
      "('innova', 'honda', 'Maruti')\n"
     ]
    }
   ],
   "source": [
    "print(d[\"car\"])"
   ]
  },
  {
   "cell_type": "code",
   "execution_count": 31,
   "id": "24b71695",
   "metadata": {},
   "outputs": [
    {
     "name": "stdout",
     "output_type": "stream",
     "text": [
      "('Samsung', 'iphone', 'Nokia')\n"
     ]
    }
   ],
   "source": [
    "print(d[\"mobile\"])"
   ]
  },
  {
   "cell_type": "code",
   "execution_count": 34,
   "id": "c8a457df",
   "metadata": {},
   "outputs": [
    {
     "name": "stdout",
     "output_type": "stream",
     "text": [
      "iphone\n"
     ]
    }
   ],
   "source": [
    "print(d[\"mobile\"][1])"
   ]
  },
  {
   "cell_type": "code",
   "execution_count": 41,
   "id": "4fd98e34",
   "metadata": {},
   "outputs": [
    {
     "name": "stdout",
     "output_type": "stream",
     "text": [
      "honda\n",
      "Maruti\n"
     ]
    }
   ],
   "source": [
    "print(d[\"car\"][1])\n",
    "print(d.get(\"car\") [2])"
   ]
  },
  {
   "cell_type": "code",
   "execution_count": 42,
   "id": "48f2252a",
   "metadata": {},
   "outputs": [
    {
     "name": "stdout",
     "output_type": "stream",
     "text": [
      "iphone\n"
     ]
    }
   ],
   "source": [
    "# to display all mobile name\n",
    "print(d.get(\"mobile\")[1])\n"
   ]
  },
  {
   "cell_type": "code",
   "execution_count": 44,
   "id": "3291c315",
   "metadata": {},
   "outputs": [
    {
     "name": "stdout",
     "output_type": "stream",
     "text": [
      "Samsung\n",
      "iphone\n",
      "Nokia\n"
     ]
    }
   ],
   "source": [
    "for mobile in d.get(\"mobile\"):\n",
    "    print(mobile)"
   ]
  },
  {
   "cell_type": "code",
   "execution_count": null,
   "id": "bc085c50",
   "metadata": {},
   "outputs": [],
   "source": []
  },
  {
   "cell_type": "code",
   "execution_count": null,
   "id": "525aaf40",
   "metadata": {},
   "outputs": [],
   "source": []
  },
  {
   "cell_type": "code",
   "execution_count": 45,
   "id": "f93c3518",
   "metadata": {},
   "outputs": [
    {
     "name": "stdout",
     "output_type": "stream",
     "text": [
      "{(10, 20): 'item1', (30, 40): [50, 60]}\n"
     ]
    }
   ],
   "source": [
    "d = {(10 ,20) : \"item1\" , (30,40) : [50,60]}\n",
    "print(d)"
   ]
  },
  {
   "cell_type": "code",
   "execution_count": 50,
   "id": "46624655",
   "metadata": {},
   "outputs": [
    {
     "name": "stdout",
     "output_type": "stream",
     "text": [
      "(10, 20) : item1\n",
      "(30, 40) : [50, 60]\n"
     ]
    }
   ],
   "source": [
    "for key,value in d.items():\n",
    "    print(key, \":\", value)"
   ]
  },
  {
   "cell_type": "code",
   "execution_count": null,
   "id": "51633a81",
   "metadata": {},
   "outputs": [],
   "source": []
  }
 ],
 "metadata": {
  "kernelspec": {
   "display_name": "Python 3 (ipykernel)",
   "language": "python",
   "name": "python3"
  },
  "language_info": {
   "codemirror_mode": {
    "name": "ipython",
    "version": 3
   },
   "file_extension": ".py",
   "mimetype": "text/x-python",
   "name": "python",
   "nbconvert_exporter": "python",
   "pygments_lexer": "ipython3",
   "version": "3.9.7"
  }
 },
 "nbformat": 4,
 "nbformat_minor": 5
}
