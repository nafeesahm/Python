{
 "cells": [
  {
   "cell_type": "code",
   "execution_count": 11,
   "id": "450745e4",
   "metadata": {},
   "outputs": [
    {
     "name": "stdout",
     "output_type": "stream",
     "text": [
      "Hello nafees Good_Morning\n",
      "Hello shees Good_Morning\n"
     ]
    }
   ],
   "source": [
    "def wish(name):\n",
    "    print(\"Hello\", name, \"Good_Morning\")\n",
    "    \n",
    "wish(\"nafees\")\n",
    "greeting = wish        # aliasing name\n",
    "del wish\n",
    "greeting(\"shees\")"
   ]
  },
  {
   "cell_type": "code",
   "execution_count": null,
   "id": "d9602b08",
   "metadata": {},
   "outputs": [],
   "source": []
  },
  {
   "cell_type": "code",
   "execution_count": 21,
   "id": "e76e5c78",
   "metadata": {},
   "outputs": [
    {
     "name": "stdout",
     "output_type": "stream",
     "text": [
      "##############################\n",
      "Hey sunny you are very beautifull\n",
      "##############################\n"
     ]
    }
   ],
   "source": [
    "def decor(func):\n",
    "    def inner(name):\n",
    "        if name==\"sunny\":\n",
    "            print(\"#\"*30)\n",
    "            print(\"Hey\" ,name, \"you are very beautifull\")\n",
    "            print(\"#\"*30)\n",
    "        else:\n",
    "            func(name)\n",
    "            \n",
    "    return inner\n",
    "@decor        \n",
    "def wish(name):\n",
    "    print(f\"Hello {name} How Are You\")\n",
    "wish(\"sunny\")"
   ]
  },
  {
   "cell_type": "code",
   "execution_count": 26,
   "id": "3f8b959f",
   "metadata": {},
   "outputs": [
    {
     "name": "stdout",
     "output_type": "stream",
     "text": [
      "Hello sunny How Are You\n",
      "##############################\n",
      "Hey PM you are very GOOD person\n",
      "##############################\n",
      "##############################\n",
      "Hey MINISTER you are very GOOD person\n",
      "##############################\n"
     ]
    }
   ],
   "source": [
    "def decor(func):\n",
    "    def inner(name):\n",
    "        names = [\"CM\", \"PM\" , \"MINISTER\"]\n",
    "        if name in names:\n",
    "            print(\"#\"*30)\n",
    "            print(\"Hey\" ,name, \"you are very GOOD person\")\n",
    "            print(\"#\"*30)\n",
    "        else:\n",
    "            func(name)\n",
    "            \n",
    "    return inner\n",
    "@decor        \n",
    "def wish(name):\n",
    "    print(f\"Hello {name} How Are You\")\n",
    "wish(\"sunny\")\n",
    "wish(\"PM\")\n",
    "wish(\"MINISTER\")"
   ]
  },
  {
   "cell_type": "code",
   "execution_count": 27,
   "id": "27a2b517",
   "metadata": {},
   "outputs": [],
   "source": [
    "# decorator function should be defined first and then use \n",
    "# while defining decorator ,the number arguments must be matched "
   ]
  },
  {
   "cell_type": "code",
   "execution_count": 43,
   "id": "bbf4dbfd",
   "metadata": {},
   "outputs": [
    {
     "name": "stdout",
     "output_type": "stream",
     "text": [
      "We are dividing 20 with 2\n",
      "10.0\n",
      "We are dividing 20 with 0\n",
      ":::OOP's can't divide with zero:::\n",
      "None\n"
     ]
    }
   ],
   "source": [
    "def smart_division(func):\n",
    "    def inner(a,b):\n",
    "        print(\"We are dividing\", a , \"with\", b)\n",
    "        \n",
    "        if b==0:\n",
    "            print(\":::OOP's can't divide with zero:::\")\n",
    "            return\n",
    "        else:\n",
    "            return func(a,b)\n",
    "    return inner\n",
    "\n",
    "@smart_division\n",
    "def division(a,b):\n",
    "    return a/b\n",
    "\n",
    "print(division(20,2))\n",
    "print(division(20,0))\n"
   ]
  },
  {
   "cell_type": "markdown",
   "id": "ffe82606",
   "metadata": {},
   "source": [
    "# How to call same function with decorator and without decorator "
   ]
  },
  {
   "cell_type": "code",
   "execution_count": 44,
   "id": "0adbdb44",
   "metadata": {},
   "outputs": [
    {
     "name": "stdout",
     "output_type": "stream",
     "text": [
      "Hello sunny How Are You\n",
      "Hello PM How Are You\n",
      "##############################\n",
      "Hey sunny you are very GOOD \n",
      "##############################\n"
     ]
    }
   ],
   "source": [
    "def decor(func):\n",
    "    def inner(name):\n",
    "        \n",
    "        if name==\"sunny\":\n",
    "            print(\"#\"*30)\n",
    "            print(\"Hey\" ,name, \"you are very GOOD \")\n",
    "            print(\"#\"*30)\n",
    "        else:\n",
    "            func(name)\n",
    "            \n",
    "    return inner\n",
    "# @decor        \n",
    "def wish(name):\n",
    "    print(f\"Hello {name} How Are You\")\n",
    "    \n",
    "decorfunction = decor(wish)           # decor function calling with wish function argument\n",
    "\n",
    "wish(\"sunny\")     # decorator won't be executed\n",
    "wish(\"PM\")\n",
    "decorfunction(\"sunny\")     # decorator will be executed"
   ]
  },
  {
   "cell_type": "code",
   "execution_count": null,
   "id": "14639eea",
   "metadata": {},
   "outputs": [],
   "source": []
  },
  {
   "cell_type": "code",
   "execution_count": 49,
   "id": "934f8ef9",
   "metadata": {},
   "outputs": [
    {
     "name": "stdout",
     "output_type": "stream",
     "text": [
      "decorator 1   execution\n",
      "original function\n"
     ]
    }
   ],
   "source": [
    " def decore1(func):\n",
    "        def inner():\n",
    "            print(\"decorator 1   execution\")\n",
    "            func()               #  original function calling\n",
    "        return inner\n",
    "@decore1\n",
    "def f():\n",
    "    print(\"original function\")\n",
    "    \n",
    "f()"
   ]
  },
  {
   "cell_type": "code",
   "execution_count": 54,
   "id": "15f513e4",
   "metadata": {},
   "outputs": [
    {
     "name": "stdout",
     "output_type": "stream",
     "text": [
      "decorator 2 execution\n"
     ]
    }
   ],
   "source": [
    " def decore1(func):\n",
    "        def inner1():\n",
    "            print(\"decorator 1   execution\")\n",
    "            \n",
    "        return inner1\n",
    "    \n",
    "def decore2(func):\n",
    "        def inner2(): \n",
    "            print(\"decorator 2 execution\")\n",
    "        return inner2\n",
    "@decore2\n",
    "def f():\n",
    "    print(\"original function\")\n",
    "    \n",
    "f()"
   ]
  },
  {
   "cell_type": "code",
   "execution_count": 64,
   "id": "b990739f",
   "metadata": {},
   "outputs": [
    {
     "name": "stdout",
     "output_type": "stream",
     "text": [
      "decorator 2 execution\n"
     ]
    }
   ],
   "source": [
    "# Decorator chaning\n",
    "\n",
    "def decore1(func):\n",
    "        def inner1():\n",
    "            print(\"decorator 1   execution\")\n",
    "            \n",
    "        return inner1\n",
    "    \n",
    "def decore2(func):\n",
    "        def inner2(): \n",
    "            print(\"decorator 2 execution\")\n",
    "            \n",
    "        return inner2                       # output\n",
    "    \n",
    "@decore2                    #  f()---> decore1--->inner1--->decore2\n",
    "@decore1\n",
    "def f():           # input function\n",
    "    print(\"original function\")\n",
    "    \n",
    "f()"
   ]
  },
  {
   "cell_type": "code",
   "execution_count": 4,
   "id": "4513d447",
   "metadata": {},
   "outputs": [
    {
     "name": "stdout",
     "output_type": "stream",
     "text": [
      "decorator 2 execution\n",
      "decorator 1   execution\n"
     ]
    }
   ],
   "source": [
    "# Decorator chaning\n",
    "\n",
    "def decore1(func):\n",
    "        def inner1():\n",
    "            print(\"decorator 1   execution\")\n",
    "            \n",
    "        return inner1\n",
    "    \n",
    "def decore2(func):\n",
    "        def inner2(): \n",
    "            print(\"decorator 2 execution\")\n",
    "            func()        \n",
    "        return inner2                       # output\n",
    "    \n",
    "@decore2                              #  f()---> decore1--->inner1--->decore2\n",
    "@decore1\n",
    "def f():           # input function\n",
    "    print(\"original function\")\n",
    "    \n",
    "f()"
   ]
  },
  {
   "cell_type": "markdown",
   "id": "3015446f",
   "metadata": {},
   "source": [
    "# Decorator chaning"
   ]
  },
  {
   "cell_type": "code",
   "execution_count": 3,
   "id": "21ac4f1d",
   "metadata": {},
   "outputs": [
    {
     "name": "stdout",
     "output_type": "stream",
     "text": [
      "decorator 2 execution\n",
      "decorator 1   execution\n",
      "original function\n"
     ]
    }
   ],
   "source": [
    "# Decorator chaning\n",
    "\n",
    "def decore1(func):\n",
    "        def inner1():\n",
    "            print(\"decorator 1   execution\")\n",
    "            func()              # calling original function\n",
    "        return inner1\n",
    "    \n",
    "def decore2(func):\n",
    "        def inner2(): \n",
    "            print(\"decorator 2 execution\")\n",
    "            func()        \n",
    "        return inner2                       # output\n",
    "    \n",
    "@decore2                              #  f()---> decore1--->inner1--->decore2\n",
    "@decore1\n",
    "def f():           # input function\n",
    "    print(\"original function\")\n",
    "    \n",
    "f()"
   ]
  },
  {
   "cell_type": "code",
   "execution_count": null,
   "id": "d1438668",
   "metadata": {},
   "outputs": [],
   "source": []
  },
  {
   "cell_type": "code",
   "execution_count": 5,
   "id": "79c89f81",
   "metadata": {},
   "outputs": [
    {
     "name": "stdout",
     "output_type": "stream",
     "text": [
      "400\n"
     ]
    }
   ],
   "source": [
    "def decor1(func):\n",
    "    def inner1():\n",
    "        x = func()      # num() will be called  and consider return value\n",
    "        return x*x\n",
    "    return inner1\n",
    "\n",
    "@decor1\n",
    "def num():\n",
    "    return 20\n",
    "print(num())"
   ]
  },
  {
   "cell_type": "code",
   "execution_count": 9,
   "id": "7763ca97",
   "metadata": {},
   "outputs": [
    {
     "name": "stdout",
     "output_type": "stream",
     "text": [
      "40\n"
     ]
    }
   ],
   "source": [
    "def decor1(func):\n",
    "    def inner1():\n",
    "        x = func()      # num() will be called  and consider return value\n",
    "        return x*x\n",
    "    return inner1\n",
    "\n",
    "def decor2(func):\n",
    "    def inner2():\n",
    "        x = func()\n",
    "        return 2*x\n",
    "    return inner2\n",
    "\n",
    "@decor2\n",
    "def num():\n",
    "    return 20\n",
    "print(num())"
   ]
  },
  {
   "cell_type": "code",
   "execution_count": 13,
   "id": "f034180d",
   "metadata": {},
   "outputs": [
    {
     "name": "stdout",
     "output_type": "stream",
     "text": [
      "800\n"
     ]
    }
   ],
   "source": [
    "def decor1(func):\n",
    "    def inner1():\n",
    "        x = func()      # inner2 will be called  and consider return value\n",
    "        return x*x\n",
    "    return inner1\n",
    "\n",
    "def decor2(func):\n",
    "    def inner2():\n",
    "        x = func()     # num() return value\n",
    "        return 2*x\n",
    "    return inner2\n",
    "\n",
    "@decor2\n",
    "@decor1\n",
    "def num():\n",
    "    return 20\n",
    "print(num())"
   ]
  },
  {
   "cell_type": "code",
   "execution_count": null,
   "id": "724b0d6e",
   "metadata": {},
   "outputs": [],
   "source": []
  }
 ],
 "metadata": {
  "kernelspec": {
   "display_name": "Python 3 (ipykernel)",
   "language": "python",
   "name": "python3"
  },
  "language_info": {
   "codemirror_mode": {
    "name": "ipython",
    "version": 3
   },
   "file_extension": ".py",
   "mimetype": "text/x-python",
   "name": "python",
   "nbconvert_exporter": "python",
   "pygments_lexer": "ipython3",
   "version": "3.9.7"
  }
 },
 "nbformat": 4,
 "nbformat_minor": 5
}
