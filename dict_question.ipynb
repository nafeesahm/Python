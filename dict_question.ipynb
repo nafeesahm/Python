{
 "cells": [
  {
   "cell_type": "markdown",
   "id": "8e23922e",
   "metadata": {},
   "source": [
    "# write a program to find number of occurance of each letter present in the given string "
   ]
  },
  {
   "cell_type": "code",
   "execution_count": 5,
   "id": "cc258951",
   "metadata": {},
   "outputs": [
    {
     "name": "stdout",
     "output_type": "stream",
     "text": [
      "enter any word : nafees\n",
      "{'n': 1, 'a': 1, 'f': 1, 'e': 2, 's': 1}\n",
      "\n",
      "n occur :  1 time\n",
      "a occur :  1 time\n",
      "f occur :  1 time\n",
      "e occur :  2 time\n",
      "s occur :  1 time\n"
     ]
    }
   ],
   "source": [
    "word = input(\"enter any word : \")\n",
    "d = {}\n",
    "for x in word:\n",
    "    d[x] = d.get(x , 0) + 1\n",
    "print(d)\n",
    "print()\n",
    "for k,v in d.items():\n",
    "    print(k, 'occur : ', v, 'time')\n"
   ]
  },
  {
   "cell_type": "code",
   "execution_count": null,
   "id": "0bf117bc",
   "metadata": {},
   "outputs": [],
   "source": []
  },
  {
   "cell_type": "markdown",
   "id": "ec6f86c0",
   "metadata": {},
   "source": [
    "# write a program to find number of occurence of each vowel present in the given string"
   ]
  },
  {
   "cell_type": "code",
   "execution_count": 2,
   "id": "147fd70a",
   "metadata": {},
   "outputs": [
    {
     "name": "stdout",
     "output_type": "stream",
     "text": [
      "Enter any word : nafees\n",
      "a occur 1 times\n",
      "e occur 2 times\n"
     ]
    }
   ],
   "source": [
    "word = input(\"Enter any word : \")\n",
    "vowels = {'a','e','i','o','u'}\n",
    "d = {}\n",
    "for x in word:\n",
    "    if x in vowels:\n",
    "        d[x] = d.get(x , 0) +1     # d.get(key , default_args)\n",
    "for key, value in sorted(d.items()):\n",
    "    print(key,\"occur\", value , \"times\")\n",
    "\n",
    "        "
   ]
  },
  {
   "cell_type": "code",
   "execution_count": null,
   "id": "dee5b5e0",
   "metadata": {},
   "outputs": [],
   "source": []
  },
  {
   "cell_type": "markdown",
   "id": "0f27be5f",
   "metadata": {},
   "source": [
    "# write a program to accept student name and marks from the keyboard and create a dictionary . also display student marks by taking student name as input"
   ]
  },
  {
   "cell_type": "code",
   "execution_count": 8,
   "id": "2a7167cf",
   "metadata": {},
   "outputs": [
    {
     "name": "stdout",
     "output_type": "stream",
     "text": [
      "Enter Number of student you want to add: 2\n",
      "\n",
      "Enter Name: anis\n",
      "Enter Marks: 67\n",
      "\n",
      "Enter Name: nafees\n",
      "Enter Marks: 98\n",
      "\n",
      "Enter student Name to get Marks : nafees\n",
      "The Marks of nafees is 98\n",
      "do you want to exit [Yes/No]  :- yes\n",
      "\n",
      " ♦•♦•♦thanks for using our application...☻\n"
     ]
    }
   ],
   "source": [
    "n = int(input(\"Enter Number of student you want to add: \"))\n",
    "d = {}\n",
    "for x in range(n):\n",
    "    name = input(\"\\nEnter Name: \")\n",
    "    marks = input(\"Enter Marks: \")\n",
    "    d[name] = marks\n",
    "    \n",
    "while True:\n",
    "    name = input(\"\\nEnter student Name to get Marks : \")\n",
    "    mark = d.get(name)\n",
    "    if mark == None:\n",
    "        print(\":::Student Not Found:::\")\n",
    "    else:\n",
    "        print('The Marks of', name, 'is', mark)\n",
    "\n",
    "    option = input(\"do you want to exit [Yes/No]  :- \")\n",
    "    if option.lower()== \"yes\":\n",
    "        break\n",
    "        \n",
    "print(\"\\n ♦•♦•♦thanks for using our application...☻\")"
   ]
  },
  {
   "cell_type": "code",
   "execution_count": null,
   "id": "4d4e9668",
   "metadata": {},
   "outputs": [],
   "source": []
  },
  {
   "cell_type": "markdown",
   "id": "61f8d592",
   "metadata": {},
   "source": [
    "# Dictionary Comprehension"
   ]
  },
  {
   "cell_type": "code",
   "execution_count": 9,
   "id": "592e93c9",
   "metadata": {},
   "outputs": [],
   "source": [
    "# comprehension concept applicable for dictionaries also..."
   ]
  },
  {
   "cell_type": "code",
   "execution_count": 23,
   "id": "5e5ad860",
   "metadata": {},
   "outputs": [
    {
     "name": "stdout",
     "output_type": "stream",
     "text": [
      "{1: 1, 2: 4, 3: 9, 4: 16, 5: 25}\n",
      "\n",
      "1 : 1\n",
      "2 : 4\n",
      "3 : 9\n",
      "4 : 16\n",
      "5 : 25\n"
     ]
    }
   ],
   "source": [
    "square = {x:x*x for x in range(1,6)}\n",
    "print(square)\n",
    "print()\n",
    "for k,v in square.items():\n",
    "    print(k , \":\", v)"
   ]
  },
  {
   "cell_type": "code",
   "execution_count": null,
   "id": "02b786cf",
   "metadata": {},
   "outputs": [],
   "source": []
  }
 ],
 "metadata": {
  "kernelspec": {
   "display_name": "Python 3 (ipykernel)",
   "language": "python",
   "name": "python3"
  },
  "language_info": {
   "codemirror_mode": {
    "name": "ipython",
    "version": 3
   },
   "file_extension": ".py",
   "mimetype": "text/x-python",
   "name": "python",
   "nbconvert_exporter": "python",
   "pygments_lexer": "ipython3",
   "version": "3.9.7"
  }
 },
 "nbformat": 4,
 "nbformat_minor": 5
}
